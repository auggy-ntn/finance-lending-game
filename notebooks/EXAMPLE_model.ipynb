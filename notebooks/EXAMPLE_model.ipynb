{
 "cells": [
  {
   "cell_type": "markdown",
   "id": "2ebfbfc3",
   "metadata": {},
   "source": [
    "# Imports"
   ]
  },
  {
   "cell_type": "code",
   "execution_count": null,
   "id": "e92ef851",
   "metadata": {},
   "outputs": [],
   "source": [
    "import matplotlib.pyplot as plt\n",
    "import optuna\n",
    "import pandas as pd\n",
    "import seaborn as sns\n",
    "\n",
    "# from sklearn.linear_model import <model\n",
    "from sklearn.model_selection import train_test_split\n",
    "\n",
    "from src.preprocessing import preprocess_data\n",
    "from src.utils.compute_metrics import compute_and_store_metrics\n",
    "from src.utils.confusion_matrix import plot_confusion_matrix\n",
    "from src.utils.load_data import load_data\n"
   ]
  },
  {
   "cell_type": "markdown",
   "id": "a29f3952",
   "metadata": {},
   "source": [
    "# Load Data"
   ]
  },
  {
   "cell_type": "code",
   "execution_count": null,
   "id": "e17f4a5f",
   "metadata": {},
   "outputs": [],
   "source": [
    "X, y = preprocess_data(load_data())"
   ]
  },
  {
   "cell_type": "markdown",
   "id": "9270a7ba",
   "metadata": {},
   "source": [
    "# Model"
   ]
  },
  {
   "cell_type": "markdown",
   "id": "247763d2",
   "metadata": {},
   "source": [
    "## Your Model"
   ]
  },
  {
   "cell_type": "code",
   "execution_count": null,
   "id": "b3099ef0",
   "metadata": {},
   "outputs": [],
   "source": [
    "## Train Test Split\n",
    "X_train, X_test, y_train, y_test = train_test_split(\n",
    "    X, y, test_size=0.2, stratify=y, random_state=42\n",
    ")"
   ]
  },
  {
   "cell_type": "code",
   "execution_count": null,
   "id": "2b4421fe",
   "metadata": {},
   "outputs": [],
   "source": [
    "## Model\n",
    "model = ...\n",
    "model.fit(X_train, y_train)\n",
    "y_pred_proba = model.predict_proba(X_test)[\n",
    "    :, 1\n",
    "]  # Probability estimates for the positive class (default)"
   ]
  },
  {
   "cell_type": "code",
   "execution_count": null,
   "id": "1ffb816d",
   "metadata": {},
   "outputs": [],
   "source": [
    "threshold = 0.5\n",
    "y_pred = (y_pred_proba >= threshold).astype(int)"
   ]
  },
  {
   "cell_type": "code",
   "execution_count": null,
   "id": "3546cc91",
   "metadata": {},
   "outputs": [],
   "source": [
    "plot_confusion_matrix(y_test, y_pred, cmap=\"Blues\")"
   ]
  },
  {
   "cell_type": "markdown",
   "id": "ab5757fb",
   "metadata": {},
   "source": [
    "## Hyperparameter fine-tuning (Optuna)"
   ]
  },
  {
   "cell_type": "code",
   "execution_count": null,
   "id": "a86629e8",
   "metadata": {},
   "outputs": [],
   "source": [
    "def objective(trial):\n",
    "    # Suggest hyperparameters\n",
    "    n_estimators = ...\n",
    "    max_depth = ...\n",
    "    min_samples_split = ...\n",
    "\n",
    "    # Train the model\n",
    "    model.fit(X_train, y_train)\n",
    "\n",
    "    # Make predictions\n",
    "    y_pred_proba = model.predict_proba(X_test)[\n",
    "        :, 1\n",
    "    ]  # Probability estimates for the positive class (default)\n",
    "    y_pred = (y_pred_proba >= threshold).astype(int)\n",
    "\n",
    "    # Calculate F1-score (or any other metric you prefer)\n",
    "    from sklearn.metrics import f1_score\n",
    "\n",
    "    score = f1_score(y_test, y_pred)\n",
    "\n",
    "    return score\n",
    "\n",
    "\n",
    "# Create and run the study\n",
    "study = optuna.create_study(direction=\"maximize\")  # Maximize F1-score\n",
    "study.optimize(objective, n_trials=50, show_progress_bar=True)\n",
    "\n",
    "print(\"\\n\" + \"=\" * 60)\n",
    "print(\"BEST HYPERPARAMETERS\")\n",
    "print(\"=\" * 60)\n",
    "print(f\"Best F1-Score: {study.best_value:.4f}\")\n",
    "print(f\"\\nBest Parameters:\")\n",
    "for key, value in study.best_params.items():\n",
    "    print(f\"  {key}: {value}\")"
   ]
  },
  {
   "cell_type": "code",
   "execution_count": null,
   "id": "b9e3e637",
   "metadata": {},
   "outputs": [],
   "source": [
    "plot_confusion_matrix(y_test, y_pred, cmap=\"Greens\")"
   ]
  },
  {
   "cell_type": "code",
   "execution_count": null,
   "id": "bba2dfc0",
   "metadata": {},
   "outputs": [],
   "source": [
    "compute_and_store_metrics(y_test, y_pred, model_name=\"Random Forest\")"
   ]
  },
  {
   "cell_type": "code",
   "execution_count": null,
   "id": "2c947a59",
   "metadata": {},
   "outputs": [],
   "source": [
    "save_model(model, model_name=\"random_forest\")"
   ]
  }
 ],
 "metadata": {
  "language_info": {
   "name": "python"
  }
 },
 "nbformat": 4,
 "nbformat_minor": 5
}
