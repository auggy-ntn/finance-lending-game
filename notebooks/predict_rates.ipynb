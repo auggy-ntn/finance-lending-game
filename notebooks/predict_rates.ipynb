{
 "cells": [
  {
   "cell_type": "markdown",
   "id": "14b05527",
   "metadata": {},
   "source": [
    "# Imports"
   ]
  },
  {
   "cell_type": "code",
   "execution_count": 1,
   "id": "fc520447",
   "metadata": {},
   "outputs": [],
   "source": [
    "import joblib\n",
    "\n",
    "import constants.paths as pth\n",
    "from src.preprocessing import preprocess_data  # noqa: F401\n",
    "from src.utils.load_data import load_data"
   ]
  },
  {
   "cell_type": "code",
   "execution_count": 2,
   "id": "36018db6",
   "metadata": {},
   "outputs": [],
   "source": [
    "data_to_predict = load_data(pth.NEW_LOANS_PATH)\n",
    "scaled_data_to_predict, _ = preprocess_data(data_to_predict)"
   ]
  },
  {
   "cell_type": "code",
   "execution_count": 3,
   "id": "15a18b66",
   "metadata": {},
   "outputs": [
    {
     "name": "stderr",
     "output_type": "stream",
     "text": [
      "[Parallel(n_jobs=8)]: Using backend ThreadingBackend with 8 concurrent workers.\n",
      "[Parallel(n_jobs=8)]: Done  34 tasks      | elapsed:    0.2s\n",
      "[Parallel(n_jobs=8)]: Done 184 tasks      | elapsed:    0.6s\n",
      "[Parallel(n_jobs=8)]: Done 434 tasks      | elapsed:    1.3s\n",
      "[Parallel(n_jobs=8)]: Done 600 out of 600 | elapsed:    1.8s finished\n"
     ]
    }
   ],
   "source": [
    "# Make predictions\n",
    "model_name = \"random_forest\"  # Change as needed\n",
    "model = joblib.load(pth.MODELS_DIR / f\"{model_name}.pkl\")  # Load your trained model\n",
    "\n",
    "proba_predictions = model.predict_proba(scaled_data_to_predict)[\n",
    "    :, 1\n",
    "]  # Probability of the positive class (default probability)"
   ]
  },
  {
   "cell_type": "code",
   "execution_count": 4,
   "id": "87e30514",
   "metadata": {},
   "outputs": [],
   "source": [
    "data_to_predict[\"predicted_default_proba\"] = proba_predictions"
   ]
  },
  {
   "cell_type": "code",
   "execution_count": 5,
   "id": "80e85f82",
   "metadata": {},
   "outputs": [],
   "source": [
    "# We compute the breake-even interest rate for each loan\n",
    "data_to_predict[\"breakeven_interest_rate\"] = data_to_predict[\n",
    "    \"predicted_default_proba\"\n",
    "] / (1 - data_to_predict[\"predicted_default_proba\"])"
   ]
  },
  {
   "cell_type": "code",
   "execution_count": 6,
   "id": "8c1dd2a0",
   "metadata": {},
   "outputs": [
    {
     "data": {
      "application/vnd.microsoft.datawrangler.viewer.v0+json": {
       "columns": [
        {
         "name": "index",
         "rawType": "int64",
         "type": "integer"
        },
        {
         "name": "id",
         "rawType": "int64",
         "type": "integer"
        },
        {
         "name": "sex",
         "rawType": "object",
         "type": "string"
        },
        {
         "name": "employment",
         "rawType": "object",
         "type": "string"
        },
        {
         "name": "married",
         "rawType": "int64",
         "type": "integer"
        },
        {
         "name": "income",
         "rawType": "int64",
         "type": "integer"
        },
        {
         "name": "signal2",
         "rawType": "float64",
         "type": "float"
        },
        {
         "name": "predicted_default_proba",
         "rawType": "float64",
         "type": "float"
        },
        {
         "name": "breakeven_interest_rate",
         "rawType": "float64",
         "type": "float"
        }
       ],
       "ref": "a45ab3ef-84d3-4187-95b9-7f2ec0cd0b40",
       "rows": [
        [
         "7",
         "8",
         "M",
         "unemployed",
         "1",
         "0",
         "0.0",
         "0.7308897513360515",
         "2.7159491508208973"
        ],
        [
         "11",
         "12",
         "M",
         "unemployed",
         "0",
         "0",
         "0.0",
         "0.760190740034297",
         "3.1699807594711635"
        ],
        [
         "24",
         "25",
         "F",
         "retired",
         "1",
         "2396",
         "0.16752663",
         "0.71",
         "2.4482758620689653"
        ],
        [
         "25",
         "26",
         "M",
         "unemployed",
         "1",
         "0",
         "0.62345445",
         "0.9192154104254028",
         "11.3785985082785"
        ],
        [
         "36",
         "37",
         "F",
         "student",
         "1",
         "0",
         "0.25863802",
         "0.6233333333333333",
         "1.6548672566371678"
        ],
        [
         "42",
         "43",
         "M",
         "employed",
         "1",
         "8806",
         "0.70632446",
         "0.645",
         "1.8169014084507045"
        ],
        [
         "51",
         "52",
         "F",
         "unemployed",
         "1",
         "0",
         "0.4332577",
         "0.6272562911591827",
         "1.6828085257558476"
        ],
        [
         "56",
         "57",
         "M",
         "retired",
         "0",
         "5432",
         "0.0",
         "0.7083333333333334",
         "2.428571428571429"
        ],
        [
         "74",
         "75",
         "F",
         "unemployed",
         "1",
         "0",
         "0.0",
         "0.7553550244582936",
         "3.087555846122508"
        ],
        [
         "83",
         "84",
         "M",
         "student",
         "0",
         "0",
         "0.28819454",
         "0.6287879335722066",
         "1.6938779485890334"
        ],
        [
         "85",
         "86",
         "M",
         "employed",
         "0",
         "9260",
         "0.0",
         "0.6533333333333333",
         "1.8846153846153846"
        ],
        [
         "90",
         "91",
         "F",
         "unemployed",
         "1",
         "0",
         "0.0",
         "0.7553550244582936",
         "3.087555846122508"
        ],
        [
         "91",
         "92",
         "F",
         "retired",
         "1",
         "2375",
         "0.0",
         "0.6411559394438839",
         "1.7867257951831697"
        ],
        [
         "116",
         "117",
         "M",
         "employed",
         "1",
         "5183",
         "0.046278041",
         "0.5016666666666667",
         "1.0066889632107026"
        ],
        [
         "144",
         "145",
         "F",
         "student",
         "0",
         "0",
         "0.0",
         "0.6765469284101796",
         "2.0916385956233152"
        ],
        [
         "156",
         "157",
         "F",
         "employed",
         "1",
         "4009",
         "0.78920448",
         "0.74",
         "2.846153846153846"
        ],
        [
         "163",
         "164",
         "F",
         "unemployed",
         "1",
         "0",
         "0.36639947",
         "0.6144961251166576",
         "1.5940076485680224"
        ],
        [
         "168",
         "169",
         "M",
         "employed",
         "1",
         "6558",
         "0.0",
         "0.9473401166713142",
         "17.98978761039646"
        ],
        [
         "170",
         "171",
         "F",
         "unemployed",
         "1",
         "0",
         "0.58099693",
         "0.760402828234828",
         "3.1736719704692296"
        ],
        [
         "197",
         "198",
         "F",
         "unemployed",
         "1",
         "0",
         "0.32666782",
         "0.6358885835715835",
         "1.7464121004747397"
        ],
        [
         "198",
         "199",
         "F",
         "unemployed",
         "1",
         "0",
         "0.73913491",
         "0.722762327352847",
         "2.6070133991952953"
        ],
        [
         "250",
         "251",
         "M",
         "unemployed",
         "1",
         "0",
         "0.17894268",
         "0.715",
         "2.508771929824561"
        ],
        [
         "253",
         "254",
         "M",
         "employed",
         "1",
         "6287",
         "0.0",
         "0.626807985568789",
         "1.6795857395933806"
        ],
        [
         "279",
         "280",
         "M",
         "unemployed",
         "0",
         "0",
         "0.0",
         "0.760190740034297",
         "3.1699807594711635"
        ],
        [
         "297",
         "298",
         "M",
         "unemployed",
         "0",
         "0",
         "0.95366186",
         "0.6183333333333333",
         "1.6200873362445412"
        ],
        [
         "315",
         "316",
         "F",
         "student",
         "0",
         "0",
         "0.91911149",
         "0.6512018803481413",
         "1.866987932727725"
        ],
        [
         "335",
         "336",
         "M",
         "employed",
         "1",
         "11210",
         "0.0",
         "0.8582165954339029",
         "6.0530116205089195"
        ],
        [
         "341",
         "342",
         "M",
         "employed",
         "1",
         "7983",
         "0.0",
         "0.5978118481129481",
         "1.4863984563146304"
        ],
        [
         "347",
         "348",
         "M",
         "unemployed",
         "1",
         "0",
         "0.16526404",
         "0.8683333333333333",
         "6.594936708860757"
        ],
        [
         "350",
         "351",
         "M",
         "student",
         "0",
         "6308",
         "0.0",
         "0.625",
         "1.6666666666666667"
        ],
        [
         "375",
         "376",
         "F",
         "unemployed",
         "0",
         "0",
         "0.0",
         "0.7520134793503632",
         "3.032477238602947"
        ],
        [
         "397",
         "398",
         "M",
         "student",
         "0",
         "0",
         "0.12069797",
         "0.6775597678900573",
         "2.1013499570333685"
        ],
        [
         "402",
         "403",
         "F",
         "student",
         "0",
         "0",
         "0.92310554",
         "0.6111464994574056",
         "1.5716625891360894"
        ],
        [
         "407",
         "408",
         "M",
         "unemployed",
         "1",
         "7773",
         "0.0",
         "0.7233333333333334",
         "2.6144578313253017"
        ],
        [
         "411",
         "412",
         "M",
         "student",
         "0",
         "0",
         "0.95102346",
         "0.8601937117573945",
         "6.152754089749541"
        ],
        [
         "451",
         "452",
         "F",
         "student",
         "0",
         "0",
         "0.8083666",
         "0.6045308918059624",
         "1.5286425141185702"
        ],
        [
         "490",
         "491",
         "M",
         "employed",
         "1",
         "8863",
         "0.0",
         "0.6641472485358341",
         "1.977495332822056"
        ],
        [
         "501",
         "502",
         "M",
         "employed",
         "1",
         "6381",
         "0.08666414",
         "0.6961806780876043",
         "2.291429898880307"
        ],
        [
         "509",
         "510",
         "F",
         "student",
         "1",
         "0",
         "0.87767577",
         "0.61",
         "1.564102564102564"
        ],
        [
         "548",
         "549",
         "M",
         "student",
         "0",
         "0",
         "0.80170614",
         "0.6129223228655111",
         "1.5834607859666192"
        ],
        [
         "560",
         "561",
         "F",
         "unemployed",
         "1",
         "0",
         "0.0",
         "0.7553550244582936",
         "3.087555846122508"
        ],
        [
         "570",
         "571",
         "M",
         "unemployed",
         "0",
         "0",
         "0.72976077",
         "0.58",
         "1.3809523809523807"
        ],
        [
         "573",
         "574",
         "F",
         "student",
         "0",
         "0",
         "0.88057697",
         "0.63063221288494",
         "1.70732867045738"
        ],
        [
         "588",
         "589",
         "M",
         "retired",
         "1",
         "6161",
         "0.0",
         "0.6604438779240093",
         "1.9450212644854203"
        ],
        [
         "599",
         "600",
         "M",
         "student",
         "0",
         "0",
         "0.0",
         "0.6279186443307428",
         "1.6875842736095041"
        ],
        [
         "617",
         "618",
         "F",
         "unemployed",
         "1",
         "0",
         "0.67020428",
         "0.6956694542565152",
         "2.2859008534847614"
        ],
        [
         "632",
         "633",
         "M",
         "unemployed",
         "0",
         "0",
         "0.50271749",
         "0.615",
         "1.5974025974025974"
        ],
        [
         "642",
         "643",
         "M",
         "student",
         "0",
         "0",
         "0.39232773",
         "0.6514966719305936",
         "1.8694130570851946"
        ],
        [
         "689",
         "690",
         "M",
         "retired",
         "1",
         "6590",
         "0.049445786",
         "0.8316666666666667",
         "4.9405940594059405"
        ],
        [
         "699",
         "700",
         "F",
         "unemployed",
         "0",
         "0",
         "0.0",
         "0.7520134793503632",
         "3.032477238602947"
        ]
       ],
       "shape": {
        "columns": 8,
        "rows": 7587
       }
      },
      "text/html": [
       "<div>\n",
       "<style scoped>\n",
       "    .dataframe tbody tr th:only-of-type {\n",
       "        vertical-align: middle;\n",
       "    }\n",
       "\n",
       "    .dataframe tbody tr th {\n",
       "        vertical-align: top;\n",
       "    }\n",
       "\n",
       "    .dataframe thead th {\n",
       "        text-align: right;\n",
       "    }\n",
       "</style>\n",
       "<table border=\"1\" class=\"dataframe\">\n",
       "  <thead>\n",
       "    <tr style=\"text-align: right;\">\n",
       "      <th></th>\n",
       "      <th>id</th>\n",
       "      <th>sex</th>\n",
       "      <th>employment</th>\n",
       "      <th>married</th>\n",
       "      <th>income</th>\n",
       "      <th>signal2</th>\n",
       "      <th>predicted_default_proba</th>\n",
       "      <th>breakeven_interest_rate</th>\n",
       "    </tr>\n",
       "  </thead>\n",
       "  <tbody>\n",
       "    <tr>\n",
       "      <th>7</th>\n",
       "      <td>8</td>\n",
       "      <td>M</td>\n",
       "      <td>unemployed</td>\n",
       "      <td>1</td>\n",
       "      <td>0</td>\n",
       "      <td>0.000000</td>\n",
       "      <td>0.730890</td>\n",
       "      <td>2.715949</td>\n",
       "    </tr>\n",
       "    <tr>\n",
       "      <th>11</th>\n",
       "      <td>12</td>\n",
       "      <td>M</td>\n",
       "      <td>unemployed</td>\n",
       "      <td>0</td>\n",
       "      <td>0</td>\n",
       "      <td>0.000000</td>\n",
       "      <td>0.760191</td>\n",
       "      <td>3.169981</td>\n",
       "    </tr>\n",
       "    <tr>\n",
       "      <th>24</th>\n",
       "      <td>25</td>\n",
       "      <td>F</td>\n",
       "      <td>retired</td>\n",
       "      <td>1</td>\n",
       "      <td>2396</td>\n",
       "      <td>0.167527</td>\n",
       "      <td>0.710000</td>\n",
       "      <td>2.448276</td>\n",
       "    </tr>\n",
       "    <tr>\n",
       "      <th>25</th>\n",
       "      <td>26</td>\n",
       "      <td>M</td>\n",
       "      <td>unemployed</td>\n",
       "      <td>1</td>\n",
       "      <td>0</td>\n",
       "      <td>0.623454</td>\n",
       "      <td>0.919215</td>\n",
       "      <td>11.378599</td>\n",
       "    </tr>\n",
       "    <tr>\n",
       "      <th>36</th>\n",
       "      <td>37</td>\n",
       "      <td>F</td>\n",
       "      <td>student</td>\n",
       "      <td>1</td>\n",
       "      <td>0</td>\n",
       "      <td>0.258638</td>\n",
       "      <td>0.623333</td>\n",
       "      <td>1.654867</td>\n",
       "    </tr>\n",
       "    <tr>\n",
       "      <th>...</th>\n",
       "      <td>...</td>\n",
       "      <td>...</td>\n",
       "      <td>...</td>\n",
       "      <td>...</td>\n",
       "      <td>...</td>\n",
       "      <td>...</td>\n",
       "      <td>...</td>\n",
       "      <td>...</td>\n",
       "    </tr>\n",
       "    <tr>\n",
       "      <th>99904</th>\n",
       "      <td>99905</td>\n",
       "      <td>F</td>\n",
       "      <td>unemployed</td>\n",
       "      <td>0</td>\n",
       "      <td>0</td>\n",
       "      <td>0.385095</td>\n",
       "      <td>0.864786</td>\n",
       "      <td>6.395687</td>\n",
       "    </tr>\n",
       "    <tr>\n",
       "      <th>99927</th>\n",
       "      <td>99928</td>\n",
       "      <td>F</td>\n",
       "      <td>student</td>\n",
       "      <td>0</td>\n",
       "      <td>0</td>\n",
       "      <td>0.873871</td>\n",
       "      <td>0.856324</td>\n",
       "      <td>5.960117</td>\n",
       "    </tr>\n",
       "    <tr>\n",
       "      <th>99951</th>\n",
       "      <td>99952</td>\n",
       "      <td>M</td>\n",
       "      <td>student</td>\n",
       "      <td>0</td>\n",
       "      <td>3966</td>\n",
       "      <td>0.000000</td>\n",
       "      <td>0.526667</td>\n",
       "      <td>1.112676</td>\n",
       "    </tr>\n",
       "    <tr>\n",
       "      <th>99961</th>\n",
       "      <td>99962</td>\n",
       "      <td>M</td>\n",
       "      <td>student</td>\n",
       "      <td>0</td>\n",
       "      <td>0</td>\n",
       "      <td>0.298729</td>\n",
       "      <td>0.633530</td>\n",
       "      <td>1.728734</td>\n",
       "    </tr>\n",
       "    <tr>\n",
       "      <th>99983</th>\n",
       "      <td>99984</td>\n",
       "      <td>M</td>\n",
       "      <td>unemployed</td>\n",
       "      <td>1</td>\n",
       "      <td>0</td>\n",
       "      <td>0.901280</td>\n",
       "      <td>0.631607</td>\n",
       "      <td>1.714496</td>\n",
       "    </tr>\n",
       "  </tbody>\n",
       "</table>\n",
       "<p>7587 rows × 8 columns</p>\n",
       "</div>"
      ],
      "text/plain": [
       "          id sex  employment  married  income   signal2  \\\n",
       "7          8   M  unemployed        1       0  0.000000   \n",
       "11        12   M  unemployed        0       0  0.000000   \n",
       "24        25   F     retired        1    2396  0.167527   \n",
       "25        26   M  unemployed        1       0  0.623454   \n",
       "36        37   F     student        1       0  0.258638   \n",
       "...      ...  ..         ...      ...     ...       ...   \n",
       "99904  99905   F  unemployed        0       0  0.385095   \n",
       "99927  99928   F     student        0       0  0.873871   \n",
       "99951  99952   M     student        0    3966  0.000000   \n",
       "99961  99962   M     student        0       0  0.298729   \n",
       "99983  99984   M  unemployed        1       0  0.901280   \n",
       "\n",
       "       predicted_default_proba  breakeven_interest_rate  \n",
       "7                     0.730890                 2.715949  \n",
       "11                    0.760191                 3.169981  \n",
       "24                    0.710000                 2.448276  \n",
       "25                    0.919215                11.378599  \n",
       "36                    0.623333                 1.654867  \n",
       "...                        ...                      ...  \n",
       "99904                 0.864786                 6.395687  \n",
       "99927                 0.856324                 5.960117  \n",
       "99951                 0.526667                 1.112676  \n",
       "99961                 0.633530                 1.728734  \n",
       "99983                 0.631607                 1.714496  \n",
       "\n",
       "[7587 rows x 8 columns]"
      ]
     },
     "execution_count": 6,
     "metadata": {},
     "output_type": "execute_result"
    }
   ],
   "source": [
    "data_to_predict[data_to_predict[\"predicted_default_proba\"] > 0.5]"
   ]
  },
  {
   "cell_type": "markdown",
   "id": "c441cbe1",
   "metadata": {},
   "source": [
    "The function\n",
    "$$\n",
    "f : x \\mapsto \\frac{x}{1-x}\n",
    "$$\n",
    "is strictly growing on $[0,1[$ and $f(\\frac{1}{2})=1$.\n",
    "\n",
    "Thus, any predicted default probability above $0.5$ gives a break even interest rate above $100\\%$. We cannot fix interest rates above $100\\%$."
   ]
  },
  {
   "cell_type": "code",
   "execution_count": 7,
   "id": "e7ccf43f",
   "metadata": {},
   "outputs": [
    {
     "name": "stdout",
     "output_type": "stream",
     "text": [
      "0.1    0.000\n",
      "0.9    0.335\n",
      "Name: predicted_default_proba, dtype: float64\n"
     ]
    },
    {
     "data": {
      "text/plain": [
       "<Axes: >"
      ]
     },
     "execution_count": 7,
     "metadata": {},
     "output_type": "execute_result"
    },
    {
     "data": {
      "image/png": "[encoded data removed]",
      "text/plain": [
       "<Figure size 640x480 with 1 Axes>"
      ]
     },
     "metadata": {},
     "output_type": "display_data"
    }
   ],
   "source": [
    "print(data_to_predict[\"predicted_default_proba\"].quantile([0.1, 0.90]))\n",
    "data_to_predict[\"predicted_default_proba\"].hist(bins=100)"
   ]
  }
 ],
 "metadata": {
  "kernelspec": {
   "display_name": "05-intro-to-finance-for-data-scientists",
   "language": "python",
   "name": "python3"
  },
  "language_info": {
   "codemirror_mode": {
    "name": "ipython",
    "version": 3
   },
   "file_extension": ".py",
   "mimetype": "text/x-python",
   "name": "python",
   "nbconvert_exporter": "python",
   "pygments_lexer": "ipython3",
   "version": "3.13.7"
  }
 },
 "nbformat": 4,
 "nbformat_minor": 5
}
