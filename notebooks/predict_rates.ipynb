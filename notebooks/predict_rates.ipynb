{
 "cells": [
  {
   "cell_type": "markdown",
   "id": "14b05527",
   "metadata": {},
   "source": [
    "# Imports"
   ]
  },
  {
   "cell_type": "code",
   "execution_count": 1,
   "id": "fc520447",
   "metadata": {},
   "outputs": [],
   "source": [
    "import joblib\n",
    "\n",
    "import constants.paths as pth\n",
    "from src.preprocessing import preprocess_data  # noqa: F401\n",
    "from src.utils.cumulative_probability import plot_cumulative_probability\n",
    "from src.utils.load_data import load_data\n"
   ]
  },
  {
   "cell_type": "code",
   "execution_count": 2,
   "id": "36018db6",
   "metadata": {},
   "outputs": [],
   "source": [
    "data_to_predict = load_data(pth.NEW_LOANS_PATH)\n",
    "scaled_data_to_predict, _ = preprocess_data(data_to_predict)"
   ]
  },
  {
   "cell_type": "code",
   "execution_count": 3,
   "id": "9a522af9",
   "metadata": {},
   "outputs": [
    {
     "data": {
      "application/vnd.microsoft.datawrangler.viewer.v0+json": {
       "columns": [
        {
         "name": "index",
         "rawType": "int64",
         "type": "integer"
        },
        {
         "name": "id",
         "rawType": "int64",
         "type": "integer"
        },
        {
         "name": "sex",
         "rawType": "object",
         "type": "string"
        },
        {
         "name": "employment",
         "rawType": "object",
         "type": "string"
        },
        {
         "name": "married",
         "rawType": "int64",
         "type": "integer"
        },
        {
         "name": "income",
         "rawType": "int64",
         "type": "integer"
        },
        {
         "name": "signal2",
         "rawType": "float64",
         "type": "float"
        }
       ],
       "ref": "ff846649-6c1c-43f5-a584-d1ab18a14887",
       "rows": [
        [
         "0",
         "1",
         "M",
         "employed",
         "0",
         "29758",
         "0.0"
        ],
        [
         "1",
         "2",
         "F",
         "retired",
         "1",
         "6140",
         "0.0"
        ],
        [
         "2",
         "3",
         "F",
         "employed",
         "1",
         "27186",
         "0.0081394995"
        ],
        [
         "3",
         "4",
         "M",
         "employed",
         "1",
         "8429",
         "0.62456977"
        ],
        [
         "4",
         "5",
         "M",
         "retired",
         "1",
         "2820",
         "0.097230077"
        ],
        [
         "5",
         "6",
         "M",
         "student",
         "0",
         "0",
         "0.91853422"
        ],
        [
         "6",
         "7",
         "M",
         "employed",
         "1",
         "42269",
         "0.52746791"
        ],
        [
         "7",
         "8",
         "M",
         "unemployed",
         "1",
         "0",
         "0.0"
        ],
        [
         "8",
         "9",
         "F",
         "unemployed",
         "0",
         "26131",
         "0.71976745"
        ],
        [
         "9",
         "10",
         "M",
         "employed",
         "1",
         "7003",
         "0.7451607"
        ],
        [
         "10",
         "11",
         "M",
         "employed",
         "1",
         "8359",
         "0.32607254"
        ],
        [
         "11",
         "12",
         "M",
         "unemployed",
         "0",
         "0",
         "0.0"
        ],
        [
         "12",
         "13",
         "M",
         "employed",
         "1",
         "26580",
         "0.78772622"
        ],
        [
         "13",
         "14",
         "M",
         "employed",
         "1",
         "8563",
         "0.30292898"
        ],
        [
         "14",
         "15",
         "F",
         "employed",
         "0",
         "28934",
         "0.84699303"
        ],
        [
         "15",
         "16",
         "M",
         "employed",
         "1",
         "14529",
         "0.6123957"
        ],
        [
         "16",
         "17",
         "M",
         "retired",
         "0",
         "45612",
         "0.087604001"
        ],
        [
         "17",
         "18",
         "F",
         "employed",
         "1",
         "5855",
         "0.0"
        ],
        [
         "18",
         "19",
         "F",
         "student",
         "0",
         "12608",
         "0.97354966"
        ],
        [
         "19",
         "20",
         "M",
         "employed",
         "0",
         "16024",
         "0.2565411"
        ],
        [
         "20",
         "21",
         "M",
         "retired",
         "0",
         "53474",
         "0.34222287"
        ],
        [
         "21",
         "22",
         "M",
         "employed",
         "1",
         "12628",
         "0.27157086"
        ],
        [
         "22",
         "23",
         "M",
         "employed",
         "1",
         "29819",
         "0.19648767"
        ],
        [
         "23",
         "24",
         "F",
         "employed",
         "1",
         "8104",
         "0.82927364"
        ],
        [
         "24",
         "25",
         "F",
         "retired",
         "1",
         "2396",
         "0.16752663"
        ],
        [
         "25",
         "26",
         "M",
         "unemployed",
         "1",
         "0",
         "0.62345445"
        ],
        [
         "26",
         "27",
         "M",
         "unemployed",
         "0",
         "6001",
         "0.68309247"
        ],
        [
         "27",
         "28",
         "F",
         "employed",
         "1",
         "24565",
         "0.38251251"
        ],
        [
         "28",
         "29",
         "M",
         "student",
         "1",
         "6234",
         "0.48178512"
        ],
        [
         "29",
         "30",
         "F",
         "retired",
         "0",
         "3430",
         "0.29621702"
        ],
        [
         "30",
         "31",
         "M",
         "unemployed",
         "0",
         "0",
         "0.069468863"
        ],
        [
         "31",
         "32",
         "F",
         "employed",
         "0",
         "9983",
         "0.23851107"
        ],
        [
         "32",
         "33",
         "F",
         "employed",
         "0",
         "9532",
         "0.0"
        ],
        [
         "33",
         "34",
         "M",
         "retired",
         "1",
         "12794",
         "0.0"
        ],
        [
         "34",
         "35",
         "M",
         "employed",
         "0",
         "6069",
         "0.58590192"
        ],
        [
         "35",
         "36",
         "M",
         "unemployed",
         "1",
         "0",
         "0.56101668"
        ],
        [
         "36",
         "37",
         "F",
         "student",
         "1",
         "0",
         "0.25863802"
        ],
        [
         "37",
         "38",
         "F",
         "employed",
         "0",
         "17592",
         "0.59475565"
        ],
        [
         "38",
         "39",
         "M",
         "employed",
         "1",
         "8581",
         "0.87654489"
        ],
        [
         "39",
         "40",
         "M",
         "employed",
         "1",
         "6543",
         "0.61513954"
        ],
        [
         "40",
         "41",
         "M",
         "student",
         "0",
         "0",
         "0.85027695"
        ],
        [
         "41",
         "42",
         "M",
         "employed",
         "0",
         "9977",
         "0.86784256"
        ],
        [
         "42",
         "43",
         "M",
         "employed",
         "1",
         "8806",
         "0.70632446"
        ],
        [
         "43",
         "44",
         "M",
         "employed",
         "1",
         "8300",
         "0.16802412"
        ],
        [
         "44",
         "45",
         "M",
         "employed",
         "1",
         "14234",
         "0.0"
        ],
        [
         "45",
         "46",
         "M",
         "unemployed",
         "1",
         "14361",
         "0.98991448"
        ],
        [
         "46",
         "47",
         "F",
         "retired",
         "1",
         "3278",
         "0.0"
        ],
        [
         "47",
         "48",
         "M",
         "retired",
         "0",
         "4795",
         "0.084788494"
        ],
        [
         "48",
         "49",
         "M",
         "student",
         "0",
         "0",
         "0.75410879"
        ],
        [
         "49",
         "50",
         "M",
         "employed",
         "1",
         "29012",
         "0.74413186"
        ]
       ],
       "shape": {
        "columns": 6,
        "rows": 100000
       }
      },
      "text/html": [
       "<div>\n",
       "<style scoped>\n",
       "    .dataframe tbody tr th:only-of-type {\n",
       "        vertical-align: middle;\n",
       "    }\n",
       "\n",
       "    .dataframe tbody tr th {\n",
       "        vertical-align: top;\n",
       "    }\n",
       "\n",
       "    .dataframe thead th {\n",
       "        text-align: right;\n",
       "    }\n",
       "</style>\n",
       "<table border=\"1\" class=\"dataframe\">\n",
       "  <thead>\n",
       "    <tr style=\"text-align: right;\">\n",
       "      <th></th>\n",
       "      <th>id</th>\n",
       "      <th>sex</th>\n",
       "      <th>employment</th>\n",
       "      <th>married</th>\n",
       "      <th>income</th>\n",
       "      <th>signal2</th>\n",
       "    </tr>\n",
       "  </thead>\n",
       "  <tbody>\n",
       "    <tr>\n",
       "      <th>0</th>\n",
       "      <td>1</td>\n",
       "      <td>M</td>\n",
       "      <td>employed</td>\n",
       "      <td>0</td>\n",
       "      <td>29758</td>\n",
       "      <td>0.000000</td>\n",
       "    </tr>\n",
       "    <tr>\n",
       "      <th>1</th>\n",
       "      <td>2</td>\n",
       "      <td>F</td>\n",
       "      <td>retired</td>\n",
       "      <td>1</td>\n",
       "      <td>6140</td>\n",
       "      <td>0.000000</td>\n",
       "    </tr>\n",
       "    <tr>\n",
       "      <th>2</th>\n",
       "      <td>3</td>\n",
       "      <td>F</td>\n",
       "      <td>employed</td>\n",
       "      <td>1</td>\n",
       "      <td>27186</td>\n",
       "      <td>0.008139</td>\n",
       "    </tr>\n",
       "    <tr>\n",
       "      <th>3</th>\n",
       "      <td>4</td>\n",
       "      <td>M</td>\n",
       "      <td>employed</td>\n",
       "      <td>1</td>\n",
       "      <td>8429</td>\n",
       "      <td>0.624570</td>\n",
       "    </tr>\n",
       "    <tr>\n",
       "      <th>4</th>\n",
       "      <td>5</td>\n",
       "      <td>M</td>\n",
       "      <td>retired</td>\n",
       "      <td>1</td>\n",
       "      <td>2820</td>\n",
       "      <td>0.097230</td>\n",
       "    </tr>\n",
       "    <tr>\n",
       "      <th>...</th>\n",
       "      <td>...</td>\n",
       "      <td>...</td>\n",
       "      <td>...</td>\n",
       "      <td>...</td>\n",
       "      <td>...</td>\n",
       "      <td>...</td>\n",
       "    </tr>\n",
       "    <tr>\n",
       "      <th>99995</th>\n",
       "      <td>99996</td>\n",
       "      <td>M</td>\n",
       "      <td>retired</td>\n",
       "      <td>1</td>\n",
       "      <td>9027</td>\n",
       "      <td>0.070968</td>\n",
       "    </tr>\n",
       "    <tr>\n",
       "      <th>99996</th>\n",
       "      <td>99997</td>\n",
       "      <td>M</td>\n",
       "      <td>student</td>\n",
       "      <td>0</td>\n",
       "      <td>6229</td>\n",
       "      <td>0.635176</td>\n",
       "    </tr>\n",
       "    <tr>\n",
       "      <th>99997</th>\n",
       "      <td>99998</td>\n",
       "      <td>M</td>\n",
       "      <td>employed</td>\n",
       "      <td>1</td>\n",
       "      <td>6471</td>\n",
       "      <td>0.748987</td>\n",
       "    </tr>\n",
       "    <tr>\n",
       "      <th>99998</th>\n",
       "      <td>99999</td>\n",
       "      <td>M</td>\n",
       "      <td>unemployed</td>\n",
       "      <td>0</td>\n",
       "      <td>32654</td>\n",
       "      <td>0.000000</td>\n",
       "    </tr>\n",
       "    <tr>\n",
       "      <th>99999</th>\n",
       "      <td>100000</td>\n",
       "      <td>F</td>\n",
       "      <td>employed</td>\n",
       "      <td>1</td>\n",
       "      <td>7415</td>\n",
       "      <td>0.628708</td>\n",
       "    </tr>\n",
       "  </tbody>\n",
       "</table>\n",
       "<p>100000 rows × 6 columns</p>\n",
       "</div>"
      ],
      "text/plain": [
       "           id sex  employment  married  income   signal2\n",
       "0           1   M    employed        0   29758  0.000000\n",
       "1           2   F     retired        1    6140  0.000000\n",
       "2           3   F    employed        1   27186  0.008139\n",
       "3           4   M    employed        1    8429  0.624570\n",
       "4           5   M     retired        1    2820  0.097230\n",
       "...       ...  ..         ...      ...     ...       ...\n",
       "99995   99996   M     retired        1    9027  0.070968\n",
       "99996   99997   M     student        0    6229  0.635176\n",
       "99997   99998   M    employed        1    6471  0.748987\n",
       "99998   99999   M  unemployed        0   32654  0.000000\n",
       "99999  100000   F    employed        1    7415  0.628708\n",
       "\n",
       "[100000 rows x 6 columns]"
      ]
     },
     "execution_count": 3,
     "metadata": {},
     "output_type": "execute_result"
    }
   ],
   "source": [
    "data_to_predict"
   ]
  },
  {
   "cell_type": "code",
   "execution_count": 4,
   "id": "5eabf96d",
   "metadata": {},
   "outputs": [
    {
     "data": {
      "application/vnd.microsoft.datawrangler.viewer.v0+json": {
       "columns": [
        {
         "name": "index",
         "rawType": "int64",
         "type": "integer"
        },
        {
         "name": "sex_M",
         "rawType": "float64",
         "type": "float"
        },
        {
         "name": "employment_retired",
         "rawType": "float64",
         "type": "float"
        },
        {
         "name": "employment_student",
         "rawType": "float64",
         "type": "float"
        },
        {
         "name": "employment_unemployed",
         "rawType": "float64",
         "type": "float"
        },
        {
         "name": "married_1",
         "rawType": "float64",
         "type": "float"
        },
        {
         "name": "income",
         "rawType": "float64",
         "type": "float"
        },
        {
         "name": "signal2",
         "rawType": "float64",
         "type": "float"
        }
       ],
       "ref": "1d158d04-8da0-4224-8683-e5005047700d",
       "rows": [
        [
         "0",
         "1.0",
         "0.0",
         "0.0",
         "0.0",
         "0.0",
         "10.300886886231925",
         "0.0"
        ],
        [
         "1",
         "0.0",
         "1.0",
         "0.0",
         "0.0",
         "1.0",
         "8.722742874329398",
         "0.0"
        ],
        [
         "2",
         "0.0",
         "0.0",
         "0.0",
         "0.0",
         "1.0",
         "10.21049419685733",
         "0.0081394995"
        ],
        [
         "3",
         "1.0",
         "0.0",
         "0.0",
         "0.0",
         "1.0",
         "9.039552050995901",
         "0.62456977"
        ],
        [
         "4",
         "1.0",
         "1.0",
         "0.0",
         "0.0",
         "1.0",
         "7.944846711001996",
         "0.097230077"
        ],
        [
         "5",
         "1.0",
         "0.0",
         "1.0",
         "0.0",
         "0.0",
         "0.0",
         "0.91853422"
        ],
        [
         "6",
         "1.0",
         "0.0",
         "0.0",
         "0.0",
         "1.0",
         "10.651832893560835",
         "0.52746791"
        ],
        [
         "7",
         "1.0",
         "0.0",
         "0.0",
         "1.0",
         "1.0",
         "0.0",
         "0.0"
        ],
        [
         "8",
         "0.0",
         "0.0",
         "0.0",
         "1.0",
         "0.0",
         "10.170915895960642",
         "0.71976745"
        ],
        [
         "9",
         "1.0",
         "0.0",
         "0.0",
         "0.0",
         "1.0",
         "8.854236693405742",
         "0.7451607"
        ],
        [
         "10",
         "1.0",
         "0.0",
         "0.0",
         "0.0",
         "1.0",
         "9.031213706078747",
         "0.32607254"
        ],
        [
         "11",
         "1.0",
         "0.0",
         "0.0",
         "1.0",
         "0.0",
         "0.0",
         "0.0"
        ],
        [
         "12",
         "1.0",
         "0.0",
         "0.0",
         "0.0",
         "1.0",
         "10.187951953831922",
         "0.78772622"
        ],
        [
         "13",
         "1.0",
         "0.0",
         "0.0",
         "0.0",
         "1.0",
         "9.055322649709574",
         "0.30292898"
        ],
        [
         "14",
         "0.0",
         "0.0",
         "0.0",
         "0.0",
         "0.0",
         "10.272807214007939",
         "0.84699303"
        ],
        [
         "15",
         "1.0",
         "0.0",
         "0.0",
         "0.0",
         "1.0",
         "9.583970756564328",
         "0.6123957"
        ],
        [
         "16",
         "1.0",
         "1.0",
         "0.0",
         "0.0",
         "0.0",
         "10.727948042591994",
         "0.087604001"
        ],
        [
         "17",
         "0.0",
         "0.0",
         "0.0",
         "0.0",
         "1.0",
         "8.675222055641148",
         "0.0"
        ],
        [
         "18",
         "0.0",
         "0.0",
         "1.0",
         "0.0",
         "0.0",
         "9.442166123673227",
         "0.97354966"
        ],
        [
         "19",
         "1.0",
         "0.0",
         "0.0",
         "0.0",
         "0.0",
         "9.68190528178887",
         "0.2565411"
        ],
        [
         "20",
         "1.0",
         "1.0",
         "0.0",
         "0.0",
         "0.0",
         "10.886969533950607",
         "0.34222287"
        ],
        [
         "21",
         "1.0",
         "0.0",
         "0.0",
         "0.0",
         "1.0",
         "9.44375103564617",
         "0.27157086"
        ],
        [
         "22",
         "1.0",
         "0.0",
         "0.0",
         "0.0",
         "1.0",
         "10.30293458831873",
         "0.19648767"
        ],
        [
         "23",
         "0.0",
         "0.0",
         "0.0",
         "0.0",
         "1.0",
         "9.000236434169777",
         "0.82927364"
        ],
        [
         "24",
         "0.0",
         "1.0",
         "0.0",
         "0.0",
         "1.0",
         "7.781973234434385",
         "0.16752663"
        ],
        [
         "25",
         "1.0",
         "0.0",
         "0.0",
         "1.0",
         "1.0",
         "0.0",
         "0.62345445"
        ],
        [
         "26",
         "1.0",
         "0.0",
         "0.0",
         "1.0",
         "0.0",
         "8.699848026000312",
         "0.68309247"
        ],
        [
         "27",
         "0.0",
         "0.0",
         "0.0",
         "0.0",
         "1.0",
         "10.10911865209904",
         "0.38251251"
        ],
        [
         "28",
         "1.0",
         "0.0",
         "1.0",
         "0.0",
         "1.0",
         "8.737933858114136",
         "0.48178512"
        ],
        [
         "29",
         "0.0",
         "1.0",
         "0.0",
         "0.0",
         "0.0",
         "8.14060704285845",
         "0.29621702"
        ],
        [
         "30",
         "1.0",
         "0.0",
         "0.0",
         "1.0",
         "0.0",
         "0.0",
         "0.069468863"
        ],
        [
         "31",
         "0.0",
         "0.0",
         "0.0",
         "0.0",
         "0.0",
         "9.208739090609209",
         "0.23851107"
        ],
        [
         "32",
         "0.0",
         "0.0",
         "0.0",
         "0.0",
         "0.0",
         "9.162514742493578",
         "0.0"
        ],
        [
         "33",
         "1.0",
         "1.0",
         "0.0",
         "0.0",
         "1.0",
         "9.456809748593889",
         "0.0"
        ],
        [
         "34",
         "1.0",
         "0.0",
         "0.0",
         "0.0",
         "0.0",
         "8.711113884053544",
         "0.58590192"
        ],
        [
         "35",
         "1.0",
         "0.0",
         "0.0",
         "1.0",
         "1.0",
         "0.0",
         "0.56101668"
        ],
        [
         "36",
         "0.0",
         "0.0",
         "1.0",
         "0.0",
         "1.0",
         "0.0",
         "0.25863802"
        ],
        [
         "37",
         "0.0",
         "0.0",
         "0.0",
         "0.0",
         "0.0",
         "9.775256374639046",
         "0.59475565"
        ],
        [
         "38",
         "1.0",
         "0.0",
         "0.0",
         "0.0",
         "1.0",
         "9.05742226555147",
         "0.87654489"
        ],
        [
         "39",
         "1.0",
         "0.0",
         "0.0",
         "0.0",
         "1.0",
         "8.786303878282583",
         "0.61513954"
        ],
        [
         "40",
         "1.0",
         "0.0",
         "1.0",
         "0.0",
         "0.0",
         "0.0",
         "0.85027695"
        ],
        [
         "41",
         "1.0",
         "0.0",
         "0.0",
         "0.0",
         "0.0",
         "9.208137948420983",
         "0.86784256"
        ],
        [
         "42",
         "1.0",
         "0.0",
         "0.0",
         "0.0",
         "1.0",
         "9.08330213880546",
         "0.70632446"
        ],
        [
         "43",
         "1.0",
         "0.0",
         "0.0",
         "0.0",
         "1.0",
         "9.024131268455035",
         "0.16802412"
        ],
        [
         "44",
         "1.0",
         "0.0",
         "0.0",
         "0.0",
         "1.0",
         "9.563458999712138",
         "0.0"
        ],
        [
         "45",
         "1.0",
         "0.0",
         "0.0",
         "1.0",
         "1.0",
         "9.572341108670264",
         "0.98991448"
        ],
        [
         "46",
         "0.0",
         "1.0",
         "0.0",
         "0.0",
         "1.0",
         "8.095293776844649",
         "0.0"
        ],
        [
         "47",
         "1.0",
         "1.0",
         "0.0",
         "0.0",
         "0.0",
         "8.475537516147405",
         "0.084788494"
        ],
        [
         "48",
         "1.0",
         "0.0",
         "1.0",
         "0.0",
         "0.0",
         "0.0",
         "0.75410879"
        ],
        [
         "49",
         "1.0",
         "0.0",
         "0.0",
         "0.0",
         "1.0",
         "10.275499284385074",
         "0.74413186"
        ]
       ],
       "shape": {
        "columns": 7,
        "rows": 100000
       }
      },
      "text/html": [
       "<div>\n",
       "<style scoped>\n",
       "    .dataframe tbody tr th:only-of-type {\n",
       "        vertical-align: middle;\n",
       "    }\n",
       "\n",
       "    .dataframe tbody tr th {\n",
       "        vertical-align: top;\n",
       "    }\n",
       "\n",
       "    .dataframe thead th {\n",
       "        text-align: right;\n",
       "    }\n",
       "</style>\n",
       "<table border=\"1\" class=\"dataframe\">\n",
       "  <thead>\n",
       "    <tr style=\"text-align: right;\">\n",
       "      <th></th>\n",
       "      <th>sex_M</th>\n",
       "      <th>employment_retired</th>\n",
       "      <th>employment_student</th>\n",
       "      <th>employment_unemployed</th>\n",
       "      <th>married_1</th>\n",
       "      <th>income</th>\n",
       "      <th>signal2</th>\n",
       "    </tr>\n",
       "  </thead>\n",
       "  <tbody>\n",
       "    <tr>\n",
       "      <th>0</th>\n",
       "      <td>1.0</td>\n",
       "      <td>0.0</td>\n",
       "      <td>0.0</td>\n",
       "      <td>0.0</td>\n",
       "      <td>0.0</td>\n",
       "      <td>10.300887</td>\n",
       "      <td>0.000000</td>\n",
       "    </tr>\n",
       "    <tr>\n",
       "      <th>1</th>\n",
       "      <td>0.0</td>\n",
       "      <td>1.0</td>\n",
       "      <td>0.0</td>\n",
       "      <td>0.0</td>\n",
       "      <td>1.0</td>\n",
       "      <td>8.722743</td>\n",
       "      <td>0.000000</td>\n",
       "    </tr>\n",
       "    <tr>\n",
       "      <th>2</th>\n",
       "      <td>0.0</td>\n",
       "      <td>0.0</td>\n",
       "      <td>0.0</td>\n",
       "      <td>0.0</td>\n",
       "      <td>1.0</td>\n",
       "      <td>10.210494</td>\n",
       "      <td>0.008139</td>\n",
       "    </tr>\n",
       "    <tr>\n",
       "      <th>3</th>\n",
       "      <td>1.0</td>\n",
       "      <td>0.0</td>\n",
       "      <td>0.0</td>\n",
       "      <td>0.0</td>\n",
       "      <td>1.0</td>\n",
       "      <td>9.039552</td>\n",
       "      <td>0.624570</td>\n",
       "    </tr>\n",
       "    <tr>\n",
       "      <th>4</th>\n",
       "      <td>1.0</td>\n",
       "      <td>1.0</td>\n",
       "      <td>0.0</td>\n",
       "      <td>0.0</td>\n",
       "      <td>1.0</td>\n",
       "      <td>7.944847</td>\n",
       "      <td>0.097230</td>\n",
       "    </tr>\n",
       "    <tr>\n",
       "      <th>...</th>\n",
       "      <td>...</td>\n",
       "      <td>...</td>\n",
       "      <td>...</td>\n",
       "      <td>...</td>\n",
       "      <td>...</td>\n",
       "      <td>...</td>\n",
       "      <td>...</td>\n",
       "    </tr>\n",
       "    <tr>\n",
       "      <th>99995</th>\n",
       "      <td>1.0</td>\n",
       "      <td>1.0</td>\n",
       "      <td>0.0</td>\n",
       "      <td>0.0</td>\n",
       "      <td>1.0</td>\n",
       "      <td>9.108086</td>\n",
       "      <td>0.070968</td>\n",
       "    </tr>\n",
       "    <tr>\n",
       "      <th>99996</th>\n",
       "      <td>1.0</td>\n",
       "      <td>0.0</td>\n",
       "      <td>1.0</td>\n",
       "      <td>0.0</td>\n",
       "      <td>0.0</td>\n",
       "      <td>8.737132</td>\n",
       "      <td>0.635176</td>\n",
       "    </tr>\n",
       "    <tr>\n",
       "      <th>99997</th>\n",
       "      <td>1.0</td>\n",
       "      <td>0.0</td>\n",
       "      <td>0.0</td>\n",
       "      <td>0.0</td>\n",
       "      <td>1.0</td>\n",
       "      <td>8.775240</td>\n",
       "      <td>0.748987</td>\n",
       "    </tr>\n",
       "    <tr>\n",
       "      <th>99998</th>\n",
       "      <td>1.0</td>\n",
       "      <td>0.0</td>\n",
       "      <td>0.0</td>\n",
       "      <td>1.0</td>\n",
       "      <td>0.0</td>\n",
       "      <td>10.393753</td>\n",
       "      <td>0.000000</td>\n",
       "    </tr>\n",
       "    <tr>\n",
       "      <th>99999</th>\n",
       "      <td>0.0</td>\n",
       "      <td>0.0</td>\n",
       "      <td>0.0</td>\n",
       "      <td>0.0</td>\n",
       "      <td>1.0</td>\n",
       "      <td>8.911395</td>\n",
       "      <td>0.628708</td>\n",
       "    </tr>\n",
       "  </tbody>\n",
       "</table>\n",
       "<p>100000 rows × 7 columns</p>\n",
       "</div>"
      ],
      "text/plain": [
       "       sex_M  employment_retired  employment_student  employment_unemployed  \\\n",
       "0        1.0                 0.0                 0.0                    0.0   \n",
       "1        0.0                 1.0                 0.0                    0.0   \n",
       "2        0.0                 0.0                 0.0                    0.0   \n",
       "3        1.0                 0.0                 0.0                    0.0   \n",
       "4        1.0                 1.0                 0.0                    0.0   \n",
       "...      ...                 ...                 ...                    ...   \n",
       "99995    1.0                 1.0                 0.0                    0.0   \n",
       "99996    1.0                 0.0                 1.0                    0.0   \n",
       "99997    1.0                 0.0                 0.0                    0.0   \n",
       "99998    1.0                 0.0                 0.0                    1.0   \n",
       "99999    0.0                 0.0                 0.0                    0.0   \n",
       "\n",
       "       married_1     income   signal2  \n",
       "0            0.0  10.300887  0.000000  \n",
       "1            1.0   8.722743  0.000000  \n",
       "2            1.0  10.210494  0.008139  \n",
       "3            1.0   9.039552  0.624570  \n",
       "4            1.0   7.944847  0.097230  \n",
       "...          ...        ...       ...  \n",
       "99995        1.0   9.108086  0.070968  \n",
       "99996        0.0   8.737132  0.635176  \n",
       "99997        1.0   8.775240  0.748987  \n",
       "99998        0.0  10.393753  0.000000  \n",
       "99999        1.0   8.911395  0.628708  \n",
       "\n",
       "[100000 rows x 7 columns]"
      ]
     },
     "execution_count": 4,
     "metadata": {},
     "output_type": "execute_result"
    }
   ],
   "source": [
    "scaled_data_to_predict"
   ]
  },
  {
   "cell_type": "code",
   "execution_count": 5,
   "id": "15a18b66",
   "metadata": {},
   "outputs": [
    {
     "name": "stderr",
     "output_type": "stream",
     "text": [
      "[Parallel(n_jobs=8)]: Using backend ThreadingBackend with 8 concurrent workers.\n",
      "[Parallel(n_jobs=8)]: Done  34 tasks      | elapsed:    0.4s\n",
      "[Parallel(n_jobs=8)]: Done 184 tasks      | elapsed:    1.1s\n",
      "[Parallel(n_jobs=8)]: Done 434 tasks      | elapsed:    1.9s\n",
      "[Parallel(n_jobs=8)]: Done 600 out of 600 | elapsed:    2.5s finished\n"
     ]
    }
   ],
   "source": [
    "# Make predictions\n",
    "model_name = \"random_forest\"  # Change as needed\n",
    "model = joblib.load(pth.MODELS_DIR / f\"{model_name}.pkl\")  # Load your trained model\n",
    "\n",
    "proba_predictions = model.predict_proba(scaled_data_to_predict)[\n",
    "    :, 1\n",
    "]  # Probability of the positive class (default probability)"
   ]
  },
  {
   "cell_type": "code",
   "execution_count": 7,
   "id": "87e30514",
   "metadata": {},
   "outputs": [],
   "source": [
    "data_to_predict[\"predicted_default_proba\"] = proba_predictions"
   ]
  },
  {
   "cell_type": "markdown",
   "id": "c441cbe1",
   "metadata": {},
   "source": [
    "The function\n",
    "$$\n",
    "f : x \\mapsto \\frac{x}{1-x}\n",
    "$$\n",
    "is strictly growing on $[0,1[$ and $f(\\frac{1}{2})=1$.\n",
    "\n",
    "Thus, any predicted default probability above $0.5$ gives a break even interest rate above $100\\%$. We cannot fix interest rates above $100\\%$."
   ]
  },
  {
   "cell_type": "code",
   "execution_count": 5,
   "id": "e7ccf43f",
   "metadata": {},
   "outputs": [
    {
     "name": "stdout",
     "output_type": "stream",
     "text": [
      "0.1    0.000000\n",
      "0.9    0.336202\n",
      "Name: predicted_default_proba, dtype: float64\n"
     ]
    },
    {
     "data": {
      "text/plain": [
       "<Axes: >"
      ]
     },
     "execution_count": 5,
     "metadata": {},
     "output_type": "execute_result"
    },
    {
     "data": {
      "image/png": "[encoded data removed]",
      "text/plain": [
       "<Figure size 640x480 with 1 Axes>"
      ]
     },
     "metadata": {},
     "output_type": "display_data"
    }
   ],
   "source": [
    "print(data_to_predict[\"predicted_default_proba\"].quantile([0.1, 0.90]))\n",
    "data_to_predict[\"predicted_default_proba\"].hist(bins=100)"
   ]
  },
  {
   "cell_type": "code",
   "execution_count": 6,
   "id": "ff26a95f",
   "metadata": {},
   "outputs": [
    {
     "data": {
      "image/png": "[encoded data removed]",
      "text/plain": [
       "<Figure size 1000x600 with 1 Axes>"
      ]
     },
     "metadata": {},
     "output_type": "display_data"
    }
   ],
   "source": [
    "plot_cumulative_probability(data_to_predict[\"predicted_default_proba\"])"
   ]
  },
  {
   "cell_type": "code",
   "execution_count": 8,
   "id": "e8f274f3",
   "metadata": {},
   "outputs": [],
   "source": [
    "import pandas as pd"
   ]
  },
  {
   "cell_type": "code",
   "execution_count": 9,
   "id": "eb3ddc24",
   "metadata": {},
   "outputs": [],
   "source": [
    "data_to_predict[\"predicted_default_proba\"] = data_to_predict[\n",
    "    \"predicted_default_proba\"\n",
    "].round(2)\n",
    "\n",
    "# Set probabilities above 0.17 to NaN (we won't offer loans to these customers)\n",
    "mask_over_threshold = data_to_predict[\"predicted_default_proba\"] > 0.17\n",
    "data_to_predict[\"predicted_default_proba\"] = data_to_predict[\n",
    "    \"predicted_default_proba\"\n",
    "].where(~mask_over_threshold, pd.NA)\n",
    "\n",
    "# We compute the breake-even interest rate for each loan\n",
    "data_to_predict[\"breakeven_interest_rate\"] = data_to_predict[\n",
    "    \"predicted_default_proba\"\n",
    "] / (1 - data_to_predict[\"predicted_default_proba\"])\n"
   ]
  },
  {
   "cell_type": "code",
   "execution_count": 10,
   "id": "eee68c74",
   "metadata": {},
   "outputs": [],
   "source": [
    "data_to_predict[\"rate\"] = (\n",
    "    data_to_predict[\"breakeven_interest_rate\"] * 1.2\n",
    ")  # Add a 20% margin\n",
    "\n",
    "mask_no_interest_rate = data_to_predict[\"predicted_default_proba\"] == 0\n",
    "data_to_predict[\"rate\"] = data_to_predict[\"rate\"].where(\n",
    "    ~mask_no_interest_rate, 0.01\n",
    ")  # Minimum interest rate of 1%\n",
    "data_to_predict[\"rate\"] = data_to_predict[\"rate\"].round(2)"
   ]
  },
  {
   "cell_type": "code",
   "execution_count": 11,
   "id": "0022b2d0",
   "metadata": {},
   "outputs": [
    {
     "data": {
      "application/vnd.microsoft.datawrangler.viewer.v0+json": {
       "columns": [
        {
         "name": "index",
         "rawType": "int64",
         "type": "integer"
        },
        {
         "name": "id",
         "rawType": "int64",
         "type": "integer"
        },
        {
         "name": "sex",
         "rawType": "object",
         "type": "string"
        },
        {
         "name": "employment",
         "rawType": "object",
         "type": "string"
        },
        {
         "name": "married",
         "rawType": "int64",
         "type": "integer"
        },
        {
         "name": "income",
         "rawType": "int64",
         "type": "integer"
        },
        {
         "name": "signal2",
         "rawType": "float64",
         "type": "float"
        },
        {
         "name": "predicted_default_proba",
         "rawType": "float64",
         "type": "float"
        },
        {
         "name": "breakeven_interest_rate",
         "rawType": "float64",
         "type": "float"
        },
        {
         "name": "rate",
         "rawType": "float64",
         "type": "float"
        }
       ],
       "ref": "43f8b261-7748-4d29-b5d8-99a103e8155e",
       "rows": [
        [
         "0",
         "1",
         "M",
         "employed",
         "0",
         "29758",
         "0.0",
         "0.0",
         "0.0",
         "0.01"
        ],
        [
         "1",
         "2",
         "F",
         "retired",
         "1",
         "6140",
         "0.0",
         "0.02",
         "0.020408163265306124",
         "0.02"
        ],
        [
         "2",
         "3",
         "F",
         "employed",
         "1",
         "27186",
         "0.0081394995",
         "0.03",
         "0.030927835051546393",
         "0.04"
        ],
        [
         "3",
         "4",
         "M",
         "employed",
         "1",
         "8429",
         "0.62456977",
         "0.04",
         "0.04166666666666667",
         "0.05"
        ],
        [
         "4",
         "5",
         "M",
         "retired",
         "1",
         "2820",
         "0.097230077",
         "0.04",
         "0.04166666666666667",
         "0.05"
        ],
        [
         "5",
         "6",
         "M",
         "student",
         "0",
         "0",
         "0.91853422",
         "0.05",
         "0.052631578947368425",
         "0.06"
        ],
        [
         "6",
         "7",
         "M",
         "employed",
         "1",
         "42269",
         "0.52746791",
         "0.0",
         "0.0",
         "0.01"
        ],
        [
         "7",
         "8",
         "M",
         "unemployed",
         "1",
         "0",
         "0.0",
         null,
         null,
         null
        ],
        [
         "8",
         "9",
         "F",
         "unemployed",
         "0",
         "26131",
         "0.71976745",
         "0.0",
         "0.0",
         "0.01"
        ],
        [
         "9",
         "10",
         "M",
         "employed",
         "1",
         "7003",
         "0.7451607",
         "0.05",
         "0.052631578947368425",
         "0.06"
        ],
        [
         "10",
         "11",
         "M",
         "employed",
         "1",
         "8359",
         "0.32607254",
         "0.02",
         "0.020408163265306124",
         "0.02"
        ],
        [
         "11",
         "12",
         "M",
         "unemployed",
         "0",
         "0",
         "0.0",
         null,
         null,
         null
        ],
        [
         "12",
         "13",
         "M",
         "employed",
         "1",
         "26580",
         "0.78772622",
         "0.01",
         "0.010101010101010102",
         "0.01"
        ],
        [
         "13",
         "14",
         "M",
         "employed",
         "1",
         "8563",
         "0.30292898",
         "0.07",
         "0.07526881720430109",
         "0.09"
        ],
        [
         "14",
         "15",
         "F",
         "employed",
         "0",
         "28934",
         "0.84699303",
         "0.0",
         "0.0",
         "0.01"
        ],
        [
         "15",
         "16",
         "M",
         "employed",
         "1",
         "14529",
         "0.6123957",
         "0.0",
         "0.0",
         "0.01"
        ],
        [
         "16",
         "17",
         "M",
         "retired",
         "0",
         "45612",
         "0.087604001",
         "0.0",
         "0.0",
         "0.01"
        ],
        [
         "17",
         "18",
         "F",
         "employed",
         "1",
         "5855",
         "0.0",
         "0.07",
         "0.07526881720430109",
         "0.09"
        ],
        [
         "18",
         "19",
         "F",
         "student",
         "0",
         "12608",
         "0.97354966",
         "0.01",
         "0.010101010101010102",
         "0.01"
        ],
        [
         "19",
         "20",
         "M",
         "employed",
         "0",
         "16024",
         "0.2565411",
         "0.04",
         "0.04166666666666667",
         "0.05"
        ],
        [
         "20",
         "21",
         "M",
         "retired",
         "0",
         "53474",
         "0.34222287",
         "0.0",
         "0.0",
         "0.01"
        ],
        [
         "21",
         "22",
         "M",
         "employed",
         "1",
         "12628",
         "0.27157086",
         "0.14",
         "0.16279069767441862",
         "0.2"
        ],
        [
         "22",
         "23",
         "M",
         "employed",
         "1",
         "29819",
         "0.19648767",
         "0.15",
         "0.17647058823529413",
         "0.21"
        ],
        [
         "23",
         "24",
         "F",
         "employed",
         "1",
         "8104",
         "0.82927364",
         "0.16",
         "0.1904761904761905",
         "0.23"
        ],
        [
         "24",
         "25",
         "F",
         "retired",
         "1",
         "2396",
         "0.16752663",
         null,
         null,
         null
        ],
        [
         "25",
         "26",
         "M",
         "unemployed",
         "1",
         "0",
         "0.62345445",
         null,
         null,
         null
        ],
        [
         "26",
         "27",
         "M",
         "unemployed",
         "0",
         "6001",
         "0.68309247",
         "0.02",
         "0.020408163265306124",
         "0.02"
        ],
        [
         "27",
         "28",
         "F",
         "employed",
         "1",
         "24565",
         "0.38251251",
         "0.07",
         "0.07526881720430109",
         "0.09"
        ],
        [
         "28",
         "29",
         "M",
         "student",
         "1",
         "6234",
         "0.48178512",
         "0.17",
         "0.20481927710843376",
         "0.25"
        ],
        [
         "29",
         "30",
         "F",
         "retired",
         "0",
         "3430",
         "0.29621702",
         "0.12",
         "0.13636363636363635",
         "0.16"
        ],
        [
         "30",
         "31",
         "M",
         "unemployed",
         "0",
         "0",
         "0.069468863",
         "0.08",
         "0.08695652173913043",
         "0.1"
        ],
        [
         "31",
         "32",
         "F",
         "employed",
         "0",
         "9983",
         "0.23851107",
         "0.13",
         "0.14942528735632185",
         "0.18"
        ],
        [
         "32",
         "33",
         "F",
         "employed",
         "0",
         "9532",
         "0.0",
         "0.04",
         "0.04166666666666667",
         "0.05"
        ],
        [
         "33",
         "34",
         "M",
         "retired",
         "1",
         "12794",
         "0.0",
         "0.0",
         "0.0",
         "0.01"
        ],
        [
         "34",
         "35",
         "M",
         "employed",
         "0",
         "6069",
         "0.58590192",
         "0.0",
         "0.0",
         "0.01"
        ],
        [
         "35",
         "36",
         "M",
         "unemployed",
         "1",
         "0",
         "0.56101668",
         null,
         null,
         null
        ],
        [
         "36",
         "37",
         "F",
         "student",
         "1",
         "0",
         "0.25863802",
         null,
         null,
         null
        ],
        [
         "37",
         "38",
         "F",
         "employed",
         "0",
         "17592",
         "0.59475565",
         "0.05",
         "0.052631578947368425",
         "0.06"
        ],
        [
         "38",
         "39",
         "M",
         "employed",
         "1",
         "8581",
         "0.87654489",
         "0.04",
         "0.04166666666666667",
         "0.05"
        ],
        [
         "39",
         "40",
         "M",
         "employed",
         "1",
         "6543",
         "0.61513954",
         "0.05",
         "0.052631578947368425",
         "0.06"
        ],
        [
         "40",
         "41",
         "M",
         "student",
         "0",
         "0",
         "0.85027695",
         "0.03",
         "0.030927835051546393",
         "0.04"
        ],
        [
         "41",
         "42",
         "M",
         "employed",
         "0",
         "9977",
         "0.86784256",
         "0.06",
         "0.06382978723404255",
         "0.08"
        ],
        [
         "42",
         "43",
         "M",
         "employed",
         "1",
         "8806",
         "0.70632446",
         null,
         null,
         null
        ],
        [
         "43",
         "44",
         "M",
         "employed",
         "1",
         "8300",
         "0.16802412",
         "0.08",
         "0.08695652173913043",
         "0.1"
        ],
        [
         "44",
         "45",
         "M",
         "employed",
         "1",
         "14234",
         "0.0",
         "0.01",
         "0.010101010101010102",
         "0.01"
        ],
        [
         "45",
         "46",
         "M",
         "unemployed",
         "1",
         "14361",
         "0.98991448",
         "0.0",
         "0.0",
         "0.01"
        ],
        [
         "46",
         "47",
         "F",
         "retired",
         "1",
         "3278",
         "0.0",
         "0.01",
         "0.010101010101010102",
         "0.01"
        ],
        [
         "47",
         "48",
         "M",
         "retired",
         "0",
         "4795",
         "0.084788494",
         "0.06",
         "0.06382978723404255",
         "0.08"
        ],
        [
         "48",
         "49",
         "M",
         "student",
         "0",
         "0",
         "0.75410879",
         "0.12",
         "0.13636363636363635",
         "0.16"
        ],
        [
         "49",
         "50",
         "M",
         "employed",
         "1",
         "29012",
         "0.74413186",
         "0.0",
         "0.0",
         "0.01"
        ]
       ],
       "shape": {
        "columns": 9,
        "rows": 100000
       }
      },
      "text/html": [
       "<div>\n",
       "<style scoped>\n",
       "    .dataframe tbody tr th:only-of-type {\n",
       "        vertical-align: middle;\n",
       "    }\n",
       "\n",
       "    .dataframe tbody tr th {\n",
       "        vertical-align: top;\n",
       "    }\n",
       "\n",
       "    .dataframe thead th {\n",
       "        text-align: right;\n",
       "    }\n",
       "</style>\n",
       "<table border=\"1\" class=\"dataframe\">\n",
       "  <thead>\n",
       "    <tr style=\"text-align: right;\">\n",
       "      <th></th>\n",
       "      <th>id</th>\n",
       "      <th>sex</th>\n",
       "      <th>employment</th>\n",
       "      <th>married</th>\n",
       "      <th>income</th>\n",
       "      <th>signal2</th>\n",
       "      <th>predicted_default_proba</th>\n",
       "      <th>breakeven_interest_rate</th>\n",
       "      <th>rate</th>\n",
       "    </tr>\n",
       "  </thead>\n",
       "  <tbody>\n",
       "    <tr>\n",
       "      <th>0</th>\n",
       "      <td>1</td>\n",
       "      <td>M</td>\n",
       "      <td>employed</td>\n",
       "      <td>0</td>\n",
       "      <td>29758</td>\n",
       "      <td>0.000000</td>\n",
       "      <td>0.00</td>\n",
       "      <td>0.000000</td>\n",
       "      <td>0.01</td>\n",
       "    </tr>\n",
       "    <tr>\n",
       "      <th>1</th>\n",
       "      <td>2</td>\n",
       "      <td>F</td>\n",
       "      <td>retired</td>\n",
       "      <td>1</td>\n",
       "      <td>6140</td>\n",
       "      <td>0.000000</td>\n",
       "      <td>0.02</td>\n",
       "      <td>0.020408</td>\n",
       "      <td>0.02</td>\n",
       "    </tr>\n",
       "    <tr>\n",
       "      <th>2</th>\n",
       "      <td>3</td>\n",
       "      <td>F</td>\n",
       "      <td>employed</td>\n",
       "      <td>1</td>\n",
       "      <td>27186</td>\n",
       "      <td>0.008139</td>\n",
       "      <td>0.03</td>\n",
       "      <td>0.030928</td>\n",
       "      <td>0.04</td>\n",
       "    </tr>\n",
       "    <tr>\n",
       "      <th>3</th>\n",
       "      <td>4</td>\n",
       "      <td>M</td>\n",
       "      <td>employed</td>\n",
       "      <td>1</td>\n",
       "      <td>8429</td>\n",
       "      <td>0.624570</td>\n",
       "      <td>0.04</td>\n",
       "      <td>0.041667</td>\n",
       "      <td>0.05</td>\n",
       "    </tr>\n",
       "    <tr>\n",
       "      <th>4</th>\n",
       "      <td>5</td>\n",
       "      <td>M</td>\n",
       "      <td>retired</td>\n",
       "      <td>1</td>\n",
       "      <td>2820</td>\n",
       "      <td>0.097230</td>\n",
       "      <td>0.04</td>\n",
       "      <td>0.041667</td>\n",
       "      <td>0.05</td>\n",
       "    </tr>\n",
       "    <tr>\n",
       "      <th>...</th>\n",
       "      <td>...</td>\n",
       "      <td>...</td>\n",
       "      <td>...</td>\n",
       "      <td>...</td>\n",
       "      <td>...</td>\n",
       "      <td>...</td>\n",
       "      <td>...</td>\n",
       "      <td>...</td>\n",
       "      <td>...</td>\n",
       "    </tr>\n",
       "    <tr>\n",
       "      <th>99995</th>\n",
       "      <td>99996</td>\n",
       "      <td>M</td>\n",
       "      <td>retired</td>\n",
       "      <td>1</td>\n",
       "      <td>9027</td>\n",
       "      <td>0.070968</td>\n",
       "      <td>0.15</td>\n",
       "      <td>0.176471</td>\n",
       "      <td>0.21</td>\n",
       "    </tr>\n",
       "    <tr>\n",
       "      <th>99996</th>\n",
       "      <td>99997</td>\n",
       "      <td>M</td>\n",
       "      <td>student</td>\n",
       "      <td>0</td>\n",
       "      <td>6229</td>\n",
       "      <td>0.635176</td>\n",
       "      <td>0.14</td>\n",
       "      <td>0.162791</td>\n",
       "      <td>0.20</td>\n",
       "    </tr>\n",
       "    <tr>\n",
       "      <th>99997</th>\n",
       "      <td>99998</td>\n",
       "      <td>M</td>\n",
       "      <td>employed</td>\n",
       "      <td>1</td>\n",
       "      <td>6471</td>\n",
       "      <td>0.748987</td>\n",
       "      <td>0.16</td>\n",
       "      <td>0.190476</td>\n",
       "      <td>0.23</td>\n",
       "    </tr>\n",
       "    <tr>\n",
       "      <th>99998</th>\n",
       "      <td>99999</td>\n",
       "      <td>M</td>\n",
       "      <td>unemployed</td>\n",
       "      <td>0</td>\n",
       "      <td>32654</td>\n",
       "      <td>0.000000</td>\n",
       "      <td>0.00</td>\n",
       "      <td>0.000000</td>\n",
       "      <td>0.01</td>\n",
       "    </tr>\n",
       "    <tr>\n",
       "      <th>99999</th>\n",
       "      <td>100000</td>\n",
       "      <td>F</td>\n",
       "      <td>employed</td>\n",
       "      <td>1</td>\n",
       "      <td>7415</td>\n",
       "      <td>0.628708</td>\n",
       "      <td>0.09</td>\n",
       "      <td>0.098901</td>\n",
       "      <td>0.12</td>\n",
       "    </tr>\n",
       "  </tbody>\n",
       "</table>\n",
       "<p>100000 rows × 9 columns</p>\n",
       "</div>"
      ],
      "text/plain": [
       "           id sex  employment  married  income   signal2  \\\n",
       "0           1   M    employed        0   29758  0.000000   \n",
       "1           2   F     retired        1    6140  0.000000   \n",
       "2           3   F    employed        1   27186  0.008139   \n",
       "3           4   M    employed        1    8429  0.624570   \n",
       "4           5   M     retired        1    2820  0.097230   \n",
       "...       ...  ..         ...      ...     ...       ...   \n",
       "99995   99996   M     retired        1    9027  0.070968   \n",
       "99996   99997   M     student        0    6229  0.635176   \n",
       "99997   99998   M    employed        1    6471  0.748987   \n",
       "99998   99999   M  unemployed        0   32654  0.000000   \n",
       "99999  100000   F    employed        1    7415  0.628708   \n",
       "\n",
       "       predicted_default_proba  breakeven_interest_rate  rate  \n",
       "0                         0.00                 0.000000  0.01  \n",
       "1                         0.02                 0.020408  0.02  \n",
       "2                         0.03                 0.030928  0.04  \n",
       "3                         0.04                 0.041667  0.05  \n",
       "4                         0.04                 0.041667  0.05  \n",
       "...                        ...                      ...   ...  \n",
       "99995                     0.15                 0.176471  0.21  \n",
       "99996                     0.14                 0.162791  0.20  \n",
       "99997                     0.16                 0.190476  0.23  \n",
       "99998                     0.00                 0.000000  0.01  \n",
       "99999                     0.09                 0.098901  0.12  \n",
       "\n",
       "[100000 rows x 9 columns]"
      ]
     },
     "execution_count": 11,
     "metadata": {},
     "output_type": "execute_result"
    }
   ],
   "source": [
    "data_to_predict"
   ]
  },
  {
   "cell_type": "code",
   "execution_count": null,
   "id": "aeab8865",
   "metadata": {},
   "outputs": [],
   "source": [
    "final_predictions = data_to_predict[[\"id\", \"rate\"]]\n",
    "final_predictions.index = final_predictions[\"id\"]\n",
    "final_predictions = final_predictions.drop(columns=[\"id\"])"
   ]
  },
  {
   "cell_type": "code",
   "execution_count": null,
   "id": "d4779f31",
   "metadata": {},
   "outputs": [
    {
     "data": {
      "application/vnd.microsoft.datawrangler.viewer.v0+json": {
       "columns": [
        {
         "name": "id",
         "rawType": "int64",
         "type": "integer"
        },
        {
         "name": "id",
         "rawType": "int64",
         "type": "integer"
        },
        {
         "name": "rate",
         "rawType": "float64",
         "type": "float"
        }
       ],
       "ref": "c0830683-d8dd-40e0-b48d-85d80bd6efff",
       "rows": [
        [
         "1",
         "1",
         "0.01"
        ],
        [
         "2",
         "2",
         "0.02"
        ],
        [
         "3",
         "3",
         "0.04"
        ],
        [
         "4",
         "4",
         "0.05"
        ],
        [
         "5",
         "5",
         "0.05"
        ],
        [
         "6",
         "6",
         "0.06"
        ],
        [
         "7",
         "7",
         "0.01"
        ],
        [
         "8",
         "8",
         null
        ],
        [
         "9",
         "9",
         "0.01"
        ],
        [
         "10",
         "10",
         "0.06"
        ],
        [
         "11",
         "11",
         "0.02"
        ],
        [
         "12",
         "12",
         null
        ],
        [
         "13",
         "13",
         "0.01"
        ],
        [
         "14",
         "14",
         "0.09"
        ],
        [
         "15",
         "15",
         "0.01"
        ],
        [
         "16",
         "16",
         "0.01"
        ],
        [
         "17",
         "17",
         "0.01"
        ],
        [
         "18",
         "18",
         "0.09"
        ],
        [
         "19",
         "19",
         "0.01"
        ],
        [
         "20",
         "20",
         "0.05"
        ],
        [
         "21",
         "21",
         "0.01"
        ],
        [
         "22",
         "22",
         "0.2"
        ],
        [
         "23",
         "23",
         "0.21"
        ],
        [
         "24",
         "24",
         "0.23"
        ],
        [
         "25",
         "25",
         null
        ],
        [
         "26",
         "26",
         null
        ],
        [
         "27",
         "27",
         "0.02"
        ],
        [
         "28",
         "28",
         "0.09"
        ],
        [
         "29",
         "29",
         "0.25"
        ],
        [
         "30",
         "30",
         "0.16"
        ],
        [
         "31",
         "31",
         "0.1"
        ],
        [
         "32",
         "32",
         "0.18"
        ],
        [
         "33",
         "33",
         "0.05"
        ],
        [
         "34",
         "34",
         "0.01"
        ],
        [
         "35",
         "35",
         "0.01"
        ],
        [
         "36",
         "36",
         null
        ],
        [
         "37",
         "37",
         null
        ],
        [
         "38",
         "38",
         "0.06"
        ],
        [
         "39",
         "39",
         "0.05"
        ],
        [
         "40",
         "40",
         "0.06"
        ],
        [
         "41",
         "41",
         "0.04"
        ],
        [
         "42",
         "42",
         "0.08"
        ],
        [
         "43",
         "43",
         null
        ],
        [
         "44",
         "44",
         "0.1"
        ],
        [
         "45",
         "45",
         "0.01"
        ],
        [
         "46",
         "46",
         "0.01"
        ],
        [
         "47",
         "47",
         "0.01"
        ],
        [
         "48",
         "48",
         "0.08"
        ],
        [
         "49",
         "49",
         "0.16"
        ],
        [
         "50",
         "50",
         "0.01"
        ]
       ],
       "shape": {
        "columns": 2,
        "rows": 100000
       }
      },
      "text/html": [
       "<div>\n",
       "<style scoped>\n",
       "    .dataframe tbody tr th:only-of-type {\n",
       "        vertical-align: middle;\n",
       "    }\n",
       "\n",
       "    .dataframe tbody tr th {\n",
       "        vertical-align: top;\n",
       "    }\n",
       "\n",
       "    .dataframe thead th {\n",
       "        text-align: right;\n",
       "    }\n",
       "</style>\n",
       "<table border=\"1\" class=\"dataframe\">\n",
       "  <thead>\n",
       "    <tr style=\"text-align: right;\">\n",
       "      <th></th>\n",
       "      <th>id</th>\n",
       "      <th>rate</th>\n",
       "    </tr>\n",
       "    <tr>\n",
       "      <th>id</th>\n",
       "      <th></th>\n",
       "      <th></th>\n",
       "    </tr>\n",
       "  </thead>\n",
       "  <tbody>\n",
       "    <tr>\n",
       "      <th>1</th>\n",
       "      <td>1</td>\n",
       "      <td>0.01</td>\n",
       "    </tr>\n",
       "    <tr>\n",
       "      <th>2</th>\n",
       "      <td>2</td>\n",
       "      <td>0.02</td>\n",
       "    </tr>\n",
       "    <tr>\n",
       "      <th>3</th>\n",
       "      <td>3</td>\n",
       "      <td>0.04</td>\n",
       "    </tr>\n",
       "    <tr>\n",
       "      <th>4</th>\n",
       "      <td>4</td>\n",
       "      <td>0.05</td>\n",
       "    </tr>\n",
       "    <tr>\n",
       "      <th>5</th>\n",
       "      <td>5</td>\n",
       "      <td>0.05</td>\n",
       "    </tr>\n",
       "    <tr>\n",
       "      <th>...</th>\n",
       "      <td>...</td>\n",
       "      <td>...</td>\n",
       "    </tr>\n",
       "    <tr>\n",
       "      <th>99996</th>\n",
       "      <td>99996</td>\n",
       "      <td>0.21</td>\n",
       "    </tr>\n",
       "    <tr>\n",
       "      <th>99997</th>\n",
       "      <td>99997</td>\n",
       "      <td>0.20</td>\n",
       "    </tr>\n",
       "    <tr>\n",
       "      <th>99998</th>\n",
       "      <td>99998</td>\n",
       "      <td>0.23</td>\n",
       "    </tr>\n",
       "    <tr>\n",
       "      <th>99999</th>\n",
       "      <td>99999</td>\n",
       "      <td>0.01</td>\n",
       "    </tr>\n",
       "    <tr>\n",
       "      <th>100000</th>\n",
       "      <td>100000</td>\n",
       "      <td>0.12</td>\n",
       "    </tr>\n",
       "  </tbody>\n",
       "</table>\n",
       "<p>100000 rows × 2 columns</p>\n",
       "</div>"
      ],
      "text/plain": [
       "            id  rate\n",
       "id                  \n",
       "1            1  0.01\n",
       "2            2  0.02\n",
       "3            3  0.04\n",
       "4            4  0.05\n",
       "5            5  0.05\n",
       "...        ...   ...\n",
       "99996    99996  0.21\n",
       "99997    99997  0.20\n",
       "99998    99998  0.23\n",
       "99999    99999  0.01\n",
       "100000  100000  0.12\n",
       "\n",
       "[100000 rows x 2 columns]"
      ]
     },
     "execution_count": 15,
     "metadata": {},
     "output_type": "execute_result"
    }
   ],
   "source": [
    "final_predictions"
   ]
  }
 ],
 "metadata": {
  "kernelspec": {
   "display_name": "05-intro-to-finance-for-data-scientists",
   "language": "python",
   "name": "python3"
  },
  "language_info": {
   "codemirror_mode": {
    "name": "ipython",
    "version": 3
   },
   "file_extension": ".py",
   "mimetype": "text/x-python",
   "name": "python",
   "nbconvert_exporter": "python",
   "pygments_lexer": "ipython3",
   "version": "3.13.7"
  }
 },
 "nbformat": 4,
 "nbformat_minor": 5
}
