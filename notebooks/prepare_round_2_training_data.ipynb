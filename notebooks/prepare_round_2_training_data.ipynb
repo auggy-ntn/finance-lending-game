{
 "cells": [
  {
   "cell_type": "markdown",
   "id": "7fde3576",
   "metadata": {},
   "source": [
    "This notebooks builds the final training set by combining the original training set and the round 1 results dataset."
   ]
  },
  {
   "cell_type": "code",
   "execution_count": 1,
   "id": "f16d5ea0",
   "metadata": {},
   "outputs": [],
   "source": [
    "import pandas as pd\n",
    "\n",
    "import constants.constants as cst\n",
    "import constants.paths as pth\n",
    "from src.utils.load_data import load_data"
   ]
  },
  {
   "cell_type": "code",
   "execution_count": 2,
   "id": "0ca992d2",
   "metadata": {},
   "outputs": [],
   "source": [
    "training_data = load_data()\n",
    "round_1_features = load_data(pth.NEW_LOANS_PATH)\n",
    "round_1_results = load_data(pth.RESULTS_PATH)\n",
    "round_1_defaults = load_data(pth.RESULTS_PATH)[cst.TARGET]"
   ]
  },
  {
   "cell_type": "code",
   "execution_count": 3,
   "id": "4199473c",
   "metadata": {},
   "outputs": [],
   "source": [
    "round_1_data = pd.concat([round_1_features, round_1_defaults], axis=1)\n",
    "round_1_data = round_1_data.drop(columns=[cst.ID])"
   ]
  },
  {
   "cell_type": "code",
   "execution_count": 4,
   "id": "f4bfe8b9",
   "metadata": {},
   "outputs": [],
   "source": [
    "full_training_data = pd.concat([training_data, round_1_data], axis=0)"
   ]
  },
  {
   "cell_type": "code",
   "execution_count": 5,
   "id": "4e9f7878",
   "metadata": {},
   "outputs": [],
   "source": [
    "full_training_data = full_training_data.drop(columns=[cst.SIGNAL_1, cst.SIGNAL_3])"
   ]
  },
  {
   "cell_type": "code",
   "execution_count": 6,
   "id": "0e6885c9",
   "metadata": {},
   "outputs": [],
   "source": [
    "full_training_data.to_csv(pth.FINAL_TRAINING_PATH, index=False)"
   ]
  }
 ],
 "metadata": {
  "kernelspec": {
   "display_name": "05-intro-to-finance-for-data-scientists",
   "language": "python",
   "name": "python3"
  },
  "language_info": {
   "codemirror_mode": {
    "name": "ipython",
    "version": 3
   },
   "file_extension": ".py",
   "mimetype": "text/x-python",
   "name": "python",
   "nbconvert_exporter": "python",
   "pygments_lexer": "ipython3",
   "version": "3.13.9"
  }
 },
 "nbformat": 4,
 "nbformat_minor": 5
}
