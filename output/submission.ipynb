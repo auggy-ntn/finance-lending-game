{
 "cells": [
  {
   "cell_type": "code",
   "execution_count": 1,
   "id": "cd8c05fe",
   "metadata": {},
   "outputs": [],
   "source": [
    "import numpy as np\n",
    "import pandas as pd\n",
    "\n",
    "from constants.paths import OUTPUT_DIR"
   ]
  },
  {
   "cell_type": "code",
   "execution_count": 2,
   "id": "da29cca9",
   "metadata": {},
   "outputs": [],
   "source": [
    "y_pred_proba = pd.read_csv(OUTPUT_DIR / \"y_pred_proba_PLTR.csv\", index_col=0).values.flatten()"
   ]
  },
  {
   "cell_type": "code",
   "execution_count": 3,
   "id": "4e8011fd",
   "metadata": {},
   "outputs": [],
   "source": [
    "# Set up a threshold to decide when it becomes to risky for us\n",
    "# It was decided to reject the riskiest 17.5% of the applications\n",
    "# No real reasons behind this number, just a gut feeling from the train set\n",
    "quantile_level = 1.0 - 0.175\n",
    "threshold = np.quantile(y_pred_proba, quantile_level)"
   ]
  },
  {
   "cell_type": "code",
   "execution_count": 4,
   "id": "83b4c119",
   "metadata": {},
   "outputs": [],
   "source": [
    "y_pred_proba_df = pd.DataFrame(y_pred_proba, columns=[\"rate\"])"
   ]
  },
  {
   "cell_type": "code",
   "execution_count": 5,
   "id": "2322d41b",
   "metadata": {},
   "outputs": [],
   "source": [
    "mask = y_pred_proba_df[\"rate\"] > threshold"
   ]
  },
  {
   "cell_type": "code",
   "execution_count": 6,
   "id": "e640c5e6",
   "metadata": {},
   "outputs": [],
   "source": [
    "y_pred_proba_df[\"rate\"] = y_pred_proba_df[\"rate\"].where(~mask, pd.NA)"
   ]
  },
  {
   "cell_type": "code",
   "execution_count": 7,
   "id": "b9423855",
   "metadata": {},
   "outputs": [],
   "source": [
    "# Applied the breakeven formula to transform the default probability into an interest rate\n",
    "y_pred_proba_df[\"rate\"] = y_pred_proba_df[\"rate\"] / (1 - y_pred_proba_df[\"rate\"])"
   ]
  },
  {
   "cell_type": "code",
   "execution_count": 8,
   "id": "00aaf70a",
   "metadata": {},
   "outputs": [],
   "source": [
    "# Add a premium to the interest rate to cover costs and make a profit\n",
    "# Gut feeling, 1.2 seems reasonable\n",
    "y_pred_proba_df[\"rate\"] = y_pred_proba_df[\"rate\"] * 1.2"
   ]
  },
  {
   "cell_type": "code",
   "execution_count": 9,
   "id": "7845856b",
   "metadata": {},
   "outputs": [],
   "source": [
    "# Because we are French we use French bond rate as a minimum interest rate (some kind of risk-free rate)\n",
    "# We know that for euro area, German bonds are the closest to risk-free\n",
    "# But as we are a French company, we should use the French bond rate\n",
    "french_3_month_bond_rate = 1.959 / 100\n",
    "german_3_month_bond_rate = 1.427 / 100"
   ]
  },
  {
   "cell_type": "code",
   "execution_count": 10,
   "id": "aedab865",
   "metadata": {},
   "outputs": [],
   "source": [
    "# Use clip to set a minimum interest rate (nice function btw i recommand, didn't know it)\n",
    "y_pred_proba_df = y_pred_proba_df.clip(lower=french_3_month_bond_rate)"
   ]
  },
  {
   "cell_type": "code",
   "execution_count": 11,
   "id": "c3bb941f",
   "metadata": {},
   "outputs": [],
   "source": [
    "y_pred_proba_df.to_csv(OUTPUT_DIR / \"submission_round_1.csv\", index_label=\"id\", header=[\"rate\"])"
   ]
  },
  {
   "cell_type": "code",
   "execution_count": null,
   "id": "826aadaf",
   "metadata": {},
   "outputs": [],
   "source": []
  }
 ],
 "metadata": {
  "kernelspec": {
   "display_name": "05-intro-to-finance-for-data-scientists (3.13.8)",
   "language": "python",
   "name": "python3"
  },
  "language_info": {
   "codemirror_mode": {
    "name": "ipython",
    "version": 3
   },
   "file_extension": ".py",
   "mimetype": "text/x-python",
   "name": "python",
   "nbconvert_exporter": "python",
   "pygments_lexer": "ipython3",
   "version": "3.13.8"
  }
 },
 "nbformat": 4,
 "nbformat_minor": 5
}
