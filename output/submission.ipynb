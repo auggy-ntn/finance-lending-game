{
 "cells": [
  {
   "cell_type": "code",
   "execution_count": 1,
   "id": "cd8c05fe",
   "metadata": {},
   "outputs": [],
   "source": [
    "import numpy as np\n",
    "import pandas as pd\n",
    "\n",
    "from constants.paths import OUTPUT_DIR"
   ]
  },
  {
   "cell_type": "code",
   "execution_count": 2,
   "id": "da29cca9",
   "metadata": {},
   "outputs": [],
   "source": [
    "y_pred_proba = pd.read_csv(\n",
    "    OUTPUT_DIR / \"y_pred_proba_PLTR.csv\", index_col=0\n",
    ").values.flatten()"
   ]
  },
  {
   "cell_type": "code",
   "execution_count": 3,
   "id": "4e8011fd",
   "metadata": {},
   "outputs": [],
   "source": [
    "# Set up a threshold to decide when it becomes to risky for us\n",
    "# It was decided to reject the riskiest 17.5% of the applications\n",
    "# No real reasons behind this number, just a gut feeling from the train set\n",
    "quantile_level = 1.0 - 0.175\n",
    "threshold = np.quantile(y_pred_proba, quantile_level)"
   ]
  },
  {
   "cell_type": "code",
   "execution_count": 4,
   "id": "83b4c119",
   "metadata": {},
   "outputs": [],
   "source": [
    "y_pred_proba_df = pd.DataFrame(\n",
    "    y_pred_proba, columns=[\"rate\"], index=np.arange(len(y_pred_proba)) + 1\n",
    ")"
   ]
  },
  {
   "cell_type": "code",
   "execution_count": 5,
   "id": "628469ac",
   "metadata": {},
   "outputs": [
    {
     "data": {
      "application/vnd.microsoft.datawrangler.viewer.v0+json": {
       "columns": [
        {
         "name": "index",
         "rawType": "int64",
         "type": "integer"
        },
        {
         "name": "rate",
         "rawType": "float64",
         "type": "float"
        }
       ],
       "ref": "14a9b4de-6e3f-46cc-9435-f1dcc944ab5c",
       "rows": [
        [
         "1",
         "0.0237500433677032"
        ],
        [
         "2",
         "0.1264061213932241"
        ],
        [
         "3",
         "0.022748553208141"
        ],
        [
         "4",
         "0.0848245903208766"
        ],
        [
         "5",
         "0.1410708233807872"
        ],
        [
         "6",
         "0.1251952961930956"
        ],
        [
         "7",
         "0.0146686455357184"
        ],
        [
         "8",
         "0.2851411590109275"
        ],
        [
         "9",
         "0.0113447642721448"
        ],
        [
         "10",
         "0.08575013956848"
        ],
        [
         "11",
         "0.1226293113048844"
        ],
        [
         "12",
         "0.2921010922406531"
        ],
        [
         "13",
         "0.0157971113799366"
        ],
        [
         "14",
         "0.1230810563271659"
        ],
        [
         "15",
         "0.0165471602071227"
        ],
        [
         "16",
         "0.0364948261173076"
        ],
        [
         "17",
         "0.0139054628179844"
        ],
        [
         "18",
         "0.2030292034431426"
        ],
        [
         "19",
         "0.0294668447617465"
        ],
        [
         "20",
         "0.0689357457238223"
        ],
        [
         "21",
         "0.0115626264424439"
        ],
        [
         "22",
         "0.0749774089505586"
        ],
        [
         "23",
         "0.0197645204738795"
        ],
        [
         "24",
         "0.0810023371128039"
        ],
        [
         "25",
         "0.1329776092464344"
        ],
        [
         "26",
         "0.2341711958105885"
        ],
        [
         "27",
         "0.1562692830426864"
        ],
        [
         "28",
         "0.0199860487616954"
        ],
        [
         "29",
         "0.1360180398661319"
        ],
        [
         "30",
         "0.1258966806802143"
        ],
        [
         "31",
         "0.2860147514329716"
        ],
        [
         "32",
         "0.1263465726784644"
        ],
        [
         "33",
         "0.1391282137493843"
        ],
        [
         "34",
         "0.0420343085299068"
        ],
        [
         "35",
         "0.1687598149260892"
        ],
        [
         "36",
         "0.2389788145798796"
        ],
        [
         "37",
         "0.2169234919795649"
        ],
        [
         "38",
         "0.0359136187727759"
        ],
        [
         "39",
         "0.0791414501761077"
        ],
        [
         "40",
         "0.1546619821476229"
        ],
        [
         "41",
         "0.1313591673709608"
        ],
        [
         "42",
         "0.0823817992723753"
        ],
        [
         "43",
         "0.0822290538979532"
        ],
        [
         "44",
         "0.1301575993150219"
        ],
        [
         "45",
         "0.0760454256141466"
        ],
        [
         "46",
         "0.0280362401403299"
        ],
        [
         "47",
         "0.1385077036749449"
        ],
        [
         "48",
         "0.1401400071801894"
        ],
        [
         "49",
         "0.186039604281718"
        ],
        [
         "50",
         "0.0155381562679697"
        ]
       ],
       "shape": {
        "columns": 1,
        "rows": 100000
       }
      },
      "text/html": [
       "<div>\n",
       "<style scoped>\n",
       "    .dataframe tbody tr th:only-of-type {\n",
       "        vertical-align: middle;\n",
       "    }\n",
       "\n",
       "    .dataframe tbody tr th {\n",
       "        vertical-align: top;\n",
       "    }\n",
       "\n",
       "    .dataframe thead th {\n",
       "        text-align: right;\n",
       "    }\n",
       "</style>\n",
       "<table border=\"1\" class=\"dataframe\">\n",
       "  <thead>\n",
       "    <tr style=\"text-align: right;\">\n",
       "      <th></th>\n",
       "      <th>rate</th>\n",
       "    </tr>\n",
       "  </thead>\n",
       "  <tbody>\n",
       "    <tr>\n",
       "      <th>1</th>\n",
       "      <td>0.023750</td>\n",
       "    </tr>\n",
       "    <tr>\n",
       "      <th>2</th>\n",
       "      <td>0.126406</td>\n",
       "    </tr>\n",
       "    <tr>\n",
       "      <th>3</th>\n",
       "      <td>0.022749</td>\n",
       "    </tr>\n",
       "    <tr>\n",
       "      <th>4</th>\n",
       "      <td>0.084825</td>\n",
       "    </tr>\n",
       "    <tr>\n",
       "      <th>5</th>\n",
       "      <td>0.141071</td>\n",
       "    </tr>\n",
       "    <tr>\n",
       "      <th>...</th>\n",
       "      <td>...</td>\n",
       "    </tr>\n",
       "    <tr>\n",
       "      <th>99996</th>\n",
       "      <td>0.076966</td>\n",
       "    </tr>\n",
       "    <tr>\n",
       "      <th>99997</th>\n",
       "      <td>0.134010</td>\n",
       "    </tr>\n",
       "    <tr>\n",
       "      <th>99998</th>\n",
       "      <td>0.144755</td>\n",
       "    </tr>\n",
       "    <tr>\n",
       "      <th>99999</th>\n",
       "      <td>0.014185</td>\n",
       "    </tr>\n",
       "    <tr>\n",
       "      <th>100000</th>\n",
       "      <td>0.087050</td>\n",
       "    </tr>\n",
       "  </tbody>\n",
       "</table>\n",
       "<p>100000 rows × 1 columns</p>\n",
       "</div>"
      ],
      "text/plain": [
       "            rate\n",
       "1       0.023750\n",
       "2       0.126406\n",
       "3       0.022749\n",
       "4       0.084825\n",
       "5       0.141071\n",
       "...          ...\n",
       "99996   0.076966\n",
       "99997   0.134010\n",
       "99998   0.144755\n",
       "99999   0.014185\n",
       "100000  0.087050\n",
       "\n",
       "[100000 rows x 1 columns]"
      ]
     },
     "execution_count": 5,
     "metadata": {},
     "output_type": "execute_result"
    }
   ],
   "source": [
    "y_pred_proba_df"
   ]
  },
  {
   "cell_type": "code",
   "execution_count": 6,
   "id": "2322d41b",
   "metadata": {},
   "outputs": [],
   "source": [
    "mask = y_pred_proba_df[\"rate\"] > threshold"
   ]
  },
  {
   "cell_type": "code",
   "execution_count": 7,
   "id": "e640c5e6",
   "metadata": {},
   "outputs": [],
   "source": [
    "y_pred_proba_df[\"rate\"] = y_pred_proba_df[\"rate\"].where(~mask, pd.NA)"
   ]
  },
  {
   "cell_type": "code",
   "execution_count": 8,
   "id": "b9423855",
   "metadata": {},
   "outputs": [],
   "source": [
    "# Applied the breakeven formula to transform the default probability into an interest rate\n",
    "y_pred_proba_df[\"rate\"] = y_pred_proba_df[\"rate\"] / (1 - y_pred_proba_df[\"rate\"])"
   ]
  },
  {
   "cell_type": "code",
   "execution_count": 9,
   "id": "00aaf70a",
   "metadata": {},
   "outputs": [],
   "source": [
    "# Add a premium to the interest rate to cover costs and make a profit\n",
    "# Gut feeling, 1.2 seems reasonable\n",
    "y_pred_proba_df[\"rate\"] = y_pred_proba_df[\"rate\"] * 1.2"
   ]
  },
  {
   "cell_type": "code",
   "execution_count": 10,
   "id": "7845856b",
   "metadata": {},
   "outputs": [],
   "source": [
    "# Because we are French we use French bond rate as a minimum interest rate (some kind of risk-free rate)\n",
    "# We know that for euro area, German bonds are the closest to risk-free\n",
    "# But as we are a French company, we should use the French bond rate\n",
    "french_3_month_bond_rate = 1.959 / 100\n",
    "german_3_month_bond_rate = 1.427 / 100"
   ]
  },
  {
   "cell_type": "code",
   "execution_count": 11,
   "id": "aedab865",
   "metadata": {},
   "outputs": [],
   "source": [
    "# Use clip to set a minimum interest rate (nice function btw i recommand, didn't know it)\n",
    "y_pred_proba_df = y_pred_proba_df.clip(lower=french_3_month_bond_rate)"
   ]
  },
  {
   "cell_type": "code",
   "execution_count": null,
   "id": "c3bb941f",
   "metadata": {},
   "outputs": [],
   "source": [
    "y_pred_proba_df.to_csv(\n",
    "    OUTPUT_DIR / \"submission_round_1.csv\", index_label=\"id\", header=[\"rate\"]\n",
    ")"
   ]
  },
  {
   "cell_type": "code",
   "execution_count": 15,
   "id": "826aadaf",
   "metadata": {},
   "outputs": [
    {
     "data": {
      "application/vnd.microsoft.datawrangler.viewer.v0+json": {
       "columns": [
        {
         "name": "index",
         "rawType": "int64",
         "type": "integer"
        },
        {
         "name": "id",
         "rawType": "int64",
         "type": "integer"
        },
        {
         "name": "rate",
         "rawType": "float64",
         "type": "float"
        }
       ],
       "ref": "04ebfa85-3a3c-4e13-8d76-5e934c502b59",
       "rows": [
        [
         "0",
         "1",
         "0.0291933964735409"
        ],
        [
         "1",
         "2",
         "0.1736359988165013"
        ],
        [
         "2",
         "3",
         "0.0279337154622635"
        ],
        [
         "3",
         "4",
         "0.1112240421983596"
        ],
        [
         "4",
         "5",
         "0.1970884127178664"
        ],
        [
         "5",
         "6",
         "0.1717347366537205"
        ],
        [
         "6",
         "7",
         "0.01959"
        ],
        [
         "7",
         "8",
         null
        ],
        [
         "8",
         "9",
         "0.01959"
        ],
        [
         "9",
         "10",
         "0.112551471906824"
        ],
        [
         "10",
         "11",
         "0.1677229196985373"
        ],
        [
         "11",
         "12",
         null
        ],
        [
         "12",
         "13",
         "0.01959"
        ],
        [
         "13",
         "14",
         "0.1684275025169291"
        ],
        [
         "14",
         "15",
         "0.020190690844646"
        ],
        [
         "15",
         "16",
         "0.0454525751681132"
        ],
        [
         "16",
         "17",
         "0.01959"
        ],
        [
         "17",
         "18",
         null
        ],
        [
         "18",
         "19",
         "0.0364338029290872"
        ],
        [
         "19",
         "20",
         "0.0888476756450033"
        ],
        [
         "20",
         "21",
         "0.01959"
        ],
        [
         "21",
         "22",
         "0.0972656144955289"
        ],
        [
         "22",
         "23",
         "0.0241956397865961"
        ],
        [
         "23",
         "24",
         "0.1057704589040897"
        ],
        [
         "24",
         "25",
         "0.1840473011971808"
        ],
        [
         "25",
         "26",
         null
        ],
        [
         "26",
         "27",
         "0.2222547263983408"
        ],
        [
         "27",
         "28",
         "0.0244723643818848"
        ],
        [
         "28",
         "29",
         "0.1889178887647934"
        ],
        [
         "29",
         "30",
         "0.1728354228580464"
        ],
        [
         "30",
         "31",
         null
        ],
        [
         "31",
         "32",
         "0.1735423710051528"
        ],
        [
         "32",
         "33",
         "0.1939357976016394"
        ],
        [
         "33",
         "34",
         "0.0526544642308444"
        ],
        [
         "34",
         "35",
         null
        ],
        [
         "35",
         "36",
         null
        ],
        [
         "36",
         "37",
         null
        ],
        [
         "37",
         "38",
         "0.0447017439168386"
        ],
        [
         "38",
         "39",
         "0.1031317353023344"
        ],
        [
         "39",
         "40",
         "0.2195504930071158"
        ],
        [
         "40",
         "41",
         "0.1814685597591181"
        ],
        [
         "41",
         "42",
         "0.1077334331952666"
        ],
        [
         "42",
         "43",
         "0.1075157860429504"
        ],
        [
         "43",
         "44",
         "0.1795602502879044"
        ],
        [
         "44",
         "45",
         "0.0987651484897211"
        ],
        [
         "45",
         "46",
         "0.0346139326977101"
        ],
        [
         "46",
         "47",
         "0.1929317825811647"
        ],
        [
         "47",
         "48",
         "0.1955760356575492"
        ],
        [
         "48",
         "49",
         null
        ],
        [
         "49",
         "50",
         "0.01959"
        ]
       ],
       "shape": {
        "columns": 2,
        "rows": 100000
       }
      },
      "text/html": [
       "<div>\n",
       "<style scoped>\n",
       "    .dataframe tbody tr th:only-of-type {\n",
       "        vertical-align: middle;\n",
       "    }\n",
       "\n",
       "    .dataframe tbody tr th {\n",
       "        vertical-align: top;\n",
       "    }\n",
       "\n",
       "    .dataframe thead th {\n",
       "        text-align: right;\n",
       "    }\n",
       "</style>\n",
       "<table border=\"1\" class=\"dataframe\">\n",
       "  <thead>\n",
       "    <tr style=\"text-align: right;\">\n",
       "      <th></th>\n",
       "      <th>id</th>\n",
       "      <th>rate</th>\n",
       "    </tr>\n",
       "  </thead>\n",
       "  <tbody>\n",
       "    <tr>\n",
       "      <th>0</th>\n",
       "      <td>1</td>\n",
       "      <td>0.029193</td>\n",
       "    </tr>\n",
       "    <tr>\n",
       "      <th>1</th>\n",
       "      <td>2</td>\n",
       "      <td>0.173636</td>\n",
       "    </tr>\n",
       "    <tr>\n",
       "      <th>2</th>\n",
       "      <td>3</td>\n",
       "      <td>0.027934</td>\n",
       "    </tr>\n",
       "    <tr>\n",
       "      <th>3</th>\n",
       "      <td>4</td>\n",
       "      <td>0.111224</td>\n",
       "    </tr>\n",
       "    <tr>\n",
       "      <th>4</th>\n",
       "      <td>5</td>\n",
       "      <td>0.197088</td>\n",
       "    </tr>\n",
       "    <tr>\n",
       "      <th>...</th>\n",
       "      <td>...</td>\n",
       "      <td>...</td>\n",
       "    </tr>\n",
       "    <tr>\n",
       "      <th>99995</th>\n",
       "      <td>99996</td>\n",
       "      <td>0.100060</td>\n",
       "    </tr>\n",
       "    <tr>\n",
       "      <th>99996</th>\n",
       "      <td>99997</td>\n",
       "      <td>0.185697</td>\n",
       "    </tr>\n",
       "    <tr>\n",
       "      <th>99997</th>\n",
       "      <td>99998</td>\n",
       "      <td>0.203107</td>\n",
       "    </tr>\n",
       "    <tr>\n",
       "      <th>99998</th>\n",
       "      <td>99999</td>\n",
       "      <td>0.019590</td>\n",
       "    </tr>\n",
       "    <tr>\n",
       "      <th>99999</th>\n",
       "      <td>100000</td>\n",
       "      <td>0.114420</td>\n",
       "    </tr>\n",
       "  </tbody>\n",
       "</table>\n",
       "<p>100000 rows × 2 columns</p>\n",
       "</div>"
      ],
      "text/plain": [
       "           id      rate\n",
       "0           1  0.029193\n",
       "1           2  0.173636\n",
       "2           3  0.027934\n",
       "3           4  0.111224\n",
       "4           5  0.197088\n",
       "...       ...       ...\n",
       "99995   99996  0.100060\n",
       "99996   99997  0.185697\n",
       "99997   99998  0.203107\n",
       "99998   99999  0.019590\n",
       "99999  100000  0.114420\n",
       "\n",
       "[100000 rows x 2 columns]"
      ]
     },
     "execution_count": 15,
     "metadata": {},
     "output_type": "execute_result"
    }
   ],
   "source": [
    "pd.read_csv(\n",
    "    \"/home/augustin/projects/xhec_dsb/05_intro_to_finance_for_data_scientists/output/submission_round_1.csv\"\n",
    ")"
   ]
  }
 ],
 "metadata": {
  "kernelspec": {
   "display_name": "05-intro-to-finance-for-data-scientists",
   "language": "python",
   "name": "python3"
  },
  "language_info": {
   "codemirror_mode": {
    "name": "ipython",
    "version": 3
   },
   "file_extension": ".py",
   "mimetype": "text/x-python",
   "name": "python",
   "nbconvert_exporter": "python",
   "pygments_lexer": "ipython3",
   "version": "3.13.7"
  }
 },
 "nbformat": 4,
 "nbformat_minor": 5
}
